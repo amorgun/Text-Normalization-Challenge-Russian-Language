{
 "cells": [
  {
   "cell_type": "code",
   "execution_count": 1,
   "metadata": {
    "collapsed": false
   },
   "outputs": [
    {
     "name": "stdout",
     "output_type": "stream",
     "text": [
      "   sentence_id  token_id        before\n",
      "0            0         0           Эта\n",
      "1            0         1         книга\n",
      "2            0         2             ,\n",
      "3            0         3  отличающаяся\n",
      "4            0         4             «\n",
      "        sentence_id  token_id     before\n",
      "989875        69999        17     убедил\n",
      "989876        69999        18        его\n",
      "989877        69999        19  выполнить\n",
      "989878        69999        20     приказ\n",
      "989879        69999        21          .\n",
      "175991\n"
     ]
    }
   ],
   "source": [
    "import os\n",
    "import operator\n",
    "import gc\n",
    "import pandas as pd\n",
    "from tqdm import tqdm\n",
    "from random import *\n",
    "import pickle\n",
    "import csv\n",
    "import re\n",
    "from num2words import num2words\n",
    "from transliterate import translit\n",
    "\n",
    "def hasNumbers(inputString):\n",
    "    return bool(re.search(r'\\d', inputString))\n",
    "\n",
    "def save_obj(obj, name):\n",
    "    with open('obj/'+ name + '.pkl', 'wb') as f:\n",
    "        pickle.dump(obj, f, -1)\n",
    "\n",
    "def load_obj(name):\n",
    "    with open('obj/' + name + '.pkl', 'rb') as f:\n",
    "        return pickle.load(f)\n",
    "\n",
    "def insert_key(key, arr, k = 1):\n",
    "    #if hasNumbers(arr): #no_digits\n",
    "    #    return\n",
    "    if key not in res_new:\n",
    "        res_new[key] = {arr : k}\n",
    "    else:\n",
    "        if arr in res_new[key]:\n",
    "            res_new[key][arr] += k\n",
    "        else:\n",
    "            res_new[key][arr] = k  \n",
    "            \n",
    "def is_ascii(s):\n",
    "    return all(ord(c) < 128 for c in s)\n",
    "\n",
    "INPUT_PATH = r'./input'\n",
    "DATA_INPUT_PATH = r'./input/ru_with_types'\n",
    "SUBM_PATH = INPUT_PATH\n",
    "\n",
    "punct = {'«','.','»',','}\n",
    "dash = {'-','—'}\n",
    "short = {\"по\",\"англ\",\"ее\",\"что\",\"есть\",\"где\",\"кто\",\"две\",\"ибн\",\"ту\"}\n",
    "\n",
    "res_new = dict()\n",
    "\n",
    "df = pd.read_csv(\"input/ru_test_2.csv\")\n",
    "print(df.head())\n",
    "print(df.tail())\n",
    "test_set_old = set(df.before)\n",
    "print(len(test_set_old))"
   ]
  },
  {
   "cell_type": "code",
   "execution_count": null,
   "metadata": {
    "collapsed": false
   },
   "outputs": [],
   "source": [
    "df = pd.read_csv(\"input/ru_train.csv\")\n",
    "#dp = df[df.before.isin(ss)] \n",
    "print(len(dp))\n",
    "\n",
    "res_new = dict()\n",
    "for i in tqdm(dp.index):\n",
    "    ans = \" \".join(list(df[df.sentence_id == df.iloc[i].sentence_id].before))\n",
    "    try:\n",
    "        res_new[arr[0]].add((arr[1], i, ans))\n",
    "    except:\n",
    "        res_new[arr[0]] = {(arr[1], i, ans)}"
   ]
  },
  {
   "cell_type": "code",
   "execution_count": null,
   "metadata": {
    "collapsed": false
   },
   "outputs": [],
   "source": []
  },
  {
   "cell_type": "code",
   "execution_count": null,
   "metadata": {
    "collapsed": false
   },
   "outputs": [],
   "source": [
    "#df = pd.read_csv(\"input/ru_train.csv\")\n",
    "#dp = df[df.before.isin(multi_words)] \n",
    "\n",
    "train = open(os.path.join(INPUT_PATH, \"ru_train.csv\"), encoding='UTF8')\n",
    "line = train.readline()\n",
    "res_new = dict()\n",
    "last = \"\"\n",
    "for i in tqdm(range(10574517)):\n",
    "    line = train.readline().strip()\n",
    "    if line == '':\n",
    "        print(\"Finish\")\n",
    "        break\n",
    "    \n",
    "    pos = line.find('\",\"')\n",
    "    text = line[pos + 2:]\n",
    "    if text[:3] == '\",\"':\n",
    "        continue\n",
    "    text = text[1:-1]\n",
    "    arr = text.split('\",\"')\n",
    "    \n",
    "    if arr[0] not in multi_words:\n",
    "        continue\n",
    "    if df.iloc[i].before != arr[0]:\n",
    "        print(\"error\")\n",
    "    \n",
    "    ans = \" \".join(list(df[df.sentence_id == df.iloc[i].sentence_id].before))\n",
    "    try:\n",
    "        res_new[arr[0]].add((arr[1], i, ans))\n",
    "    except:\n",
    "        res_new[arr[0]] = {(arr[1], i, ans)}\n",
    "        \n",
    "    #print(res_new)\n",
    "    #break\n",
    "    \n",
    "    #insert_key(arr[0], arr[1])\n",
    "    \n",
    "train.close()\n",
    "gc.collect()\n",
    "len(res_new)\n",
    "#800813 801234"
   ]
  },
  {
   "cell_type": "code",
   "execution_count": null,
   "metadata": {
    "collapsed": false
   },
   "outputs": [],
   "source": [
    "#save_obj(res_new, \"res_new_simple_all_no_digits_train\") \n",
    "res_new = load_obj(\"res_new_simple_all_no_digits_train\") "
   ]
  },
  {
   "cell_type": "code",
   "execution_count": null,
   "metadata": {
    "collapsed": false
   },
   "outputs": [],
   "source": [
    "files = os.listdir(DATA_INPUT_PATH)\n",
    "for file in tqdm(files):\n",
    "    train = open(os.path.join(DATA_INPUT_PATH, file), encoding='UTF8')\n",
    "    while 1:\n",
    "        line = train.readline().strip()\n",
    "        if line == '':\n",
    "            break\n",
    "        \n",
    "        pos = line.find('\\t')\n",
    "        text = line[pos + 1:]\n",
    "        if text[:3] == '':\n",
    "            continue\n",
    "        arr = text.split('\\t')\n",
    "        if arr[0] == '<eos>':\n",
    "            continue\n",
    "        \n",
    "        if arr[1] == '<self>' or arr[1] == 'sil':\n",
    "            arr[1] = arr[0]\n",
    "    \n",
    "        insert_key(arr[0], arr[1])\n",
    "        \n",
    "    train.close()\n",
    "    gc.collect()\n",
    "len(res_new)\n",
    "#4922825"
   ]
  },
  {
   "cell_type": "code",
   "execution_count": null,
   "metadata": {
    "collapsed": false
   },
   "outputs": [],
   "source": [
    "#save_obj(res_new, \"res_new_simple_all_digits\") \n",
    "res_new = load_obj(\"res_new_simple_all_digits\") \n",
    "res = [x for x in res_new if len(res_new[x])==1]\n",
    "print(len(res))\n",
    "\n",
    "single = set(res) & test_set_old\n",
    "print(len(single))\n",
    "\n",
    "multi_words = list(test_set_old-set(res)-punct-dash-short)\n",
    "print(len(multi_words))\n",
    "\n",
    "s = dict()\n",
    "for x in tqdm(single):\n",
    "    s[x] = list(res_new[x])[0]\n",
    "    \n",
    "save_obj(s, \"s_digits\")  \n",
    "\n",
    "# 4832560\n",
    "# 175716\n",
    "# 10650\n",
    "# 4835693\n",
    "# 175442\n",
    "# 10924"
   ]
  },
  {
   "cell_type": "code",
   "execution_count": null,
   "metadata": {
    "collapsed": false
   },
   "outputs": [],
   "source": []
  },
  {
   "cell_type": "code",
   "execution_count": null,
   "metadata": {
    "collapsed": false
   },
   "outputs": [],
   "source": []
  },
  {
   "cell_type": "code",
   "execution_count": null,
   "metadata": {
    "collapsed": false
   },
   "outputs": [],
   "source": [
    "test_set = set()\n",
    "\n",
    "df = pd.read_csv(\"input/ru_test_2.csv\")\n",
    "dp = df[df.before.isin(multi_words)] \n",
    "\n",
    "before = df.before\n",
    "token = df.token_id\n",
    "\n",
    "for i in tqdm(dp.index):\n",
    "    arr = before[i]\n",
    "    \n",
    "    try:\n",
    "        if token[i-1] == 0:\n",
    "            lost = \"\"\n",
    "        else:\n",
    "            lost = before[i-2]\n",
    "    except:\n",
    "        lost = \"\"\n",
    "        \n",
    "    try:\n",
    "        if token[i] == 0:\n",
    "            last = \"\"\n",
    "        else:\n",
    "            last = before[i-1]\n",
    "    except:\n",
    "        last = \"\"\n",
    "    \n",
    "    if last==\"\":\n",
    "        lost=\"\"\n",
    "        \n",
    "    try:\n",
    "        if token[i+1]==0:\n",
    "            nex = \"\"\n",
    "        else:\n",
    "            nex = before[i+1]\n",
    "    except:\n",
    "        nex = \"\"\n",
    "        \n",
    "    try:\n",
    "        if token[i+2]==0:\n",
    "            nexx = \"\"\n",
    "        else:\n",
    "            nexx = before[i+2]\n",
    "    except:\n",
    "        nexx = \"\"\n",
    "    if nex==\"\":\n",
    "        nexx=\"\"\n",
    "    \n",
    "    for key in [(lost, last, arr, nex, nexx),\n",
    "                \n",
    "                (lost, last, arr, nex, None),\n",
    "                (None, last, arr, nex, nexx),\n",
    "                \n",
    "                (lost, last, arr, None, None),\n",
    "                (None, last, arr, nex, None),\n",
    "                (None, None, arr, nex, nexx),\n",
    "                \n",
    "                (None, last, arr, None, None), \n",
    "                (None, None, arr, nex, None),\n",
    "                \n",
    "                (None, None, arr, None, None)]:\n",
    "        test_set.add(key)\n",
    "len(test_set)\n",
    "#125432\n",
    "#243316\n",
    "#428862"
   ]
  },
  {
   "cell_type": "code",
   "execution_count": null,
   "metadata": {
    "collapsed": false
   },
   "outputs": [],
   "source": [
    "save_obj(test_set, \"test_set_2_new_digits_x\")  "
   ]
  },
  {
   "cell_type": "code",
   "execution_count": 45,
   "metadata": {
    "collapsed": false
   },
   "outputs": [
    {
     "name": "stderr",
     "output_type": "stream",
     "text": [
      "100%|██████████| 311298/311298 [01:21<00:00, 3802.28it/s]\n"
     ]
    },
    {
     "data": {
      "text/plain": [
       "94"
      ]
     },
     "execution_count": 45,
     "metadata": {},
     "output_type": "execute_result"
    }
   ],
   "source": [
    "test_set = load_obj(\"test_set_2_new_digits_x\")\n",
    "#print(len(test_set))\n",
    "\n",
    "res_new = dict()\n",
    "big_set = set()\n",
    "big_dict = dict()\n",
    "\n",
    "df = pd.read_csv(\"input/ru_train.csv\")\n",
    "#dp = df[df.before.isin(multi_words)] \n",
    "dp = df[df.before.isin(ss)] \n",
    "\n",
    "before = df.before\n",
    "after = df.after\n",
    "token = df.token_id\n",
    "\n",
    "for i in tqdm(dp.index):\n",
    "    arr = [before[i], after[i]]\n",
    "    \n",
    "    try:\n",
    "        if token[i-1] == 0:\n",
    "            lost = \"\"\n",
    "        else:\n",
    "            lost = before[i-2]\n",
    "    except:\n",
    "        lost = \"\"\n",
    "        \n",
    "    try:\n",
    "        if token[i] == 0:\n",
    "            last = \"\"\n",
    "        else:\n",
    "            last = before[i-1]\n",
    "    except:\n",
    "        last = \"\"\n",
    "    \n",
    "    if last==\"\":\n",
    "        lost=\"\"\n",
    "        \n",
    "    try:\n",
    "        if token[i+1]==0:\n",
    "            nex = \"\"\n",
    "        else:\n",
    "            nex = before[i+1]\n",
    "    except:\n",
    "        nex = \"\"\n",
    "        \n",
    "    try:\n",
    "        if token[i+2]==0:\n",
    "            nexx = \"\"\n",
    "        else:\n",
    "            nexx = before[i+2]\n",
    "    except:\n",
    "        nexx = \"\"\n",
    "    if nex==\"\":\n",
    "        nexx=\"\"\n",
    "    \n",
    "    if ((lost, last, arr[0], nex, nexx) in sss):\n",
    "        \n",
    "        ans = \"___\".join(list(df[df.sentence_id == df.iloc[i].sentence_id].before))\n",
    "        t = df.iloc[i].token_id\n",
    "        try:\n",
    "            res_new[arr[0]].add((arr[1], t, ans))\n",
    "        except:\n",
    "            res_new[arr[0]] = {(arr[1], t, ans)}\n",
    "        \n",
    "    \n",
    "#     for key in [(lost, last, arr[0], nex, nexx),\n",
    "                \n",
    "#                 (lost, last, arr[0], nex, None),\n",
    "#                 (None, last, arr[0], nex, nexx),\n",
    "                \n",
    "#                 (lost, last, arr[0], None, None),\n",
    "#                 (None, last, arr[0], nex, None),\n",
    "#                 (None, None, arr[0], nex, nexx),\n",
    "                \n",
    "#                 (None, last, arr[0], None, None), \n",
    "#                 (None, None, arr[0], nex, None),\n",
    "                \n",
    "#                 (None, None, arr[0], None, None)]:\n",
    "#         big_set.add(key)\n",
    "#         try:\n",
    "#             big_dict[(key, arr[1])]+= 1\n",
    "#         except:\n",
    "#             big_dict[(key, arr[1])] = 1\n",
    "            \n",
    "# inter = big_set & test_set\n",
    "# print(len(inter))\n",
    "# for key, arr in tqdm(list(big_dict)):\n",
    "#     if key in inter:\n",
    "#         insert_key(key, arr, big_dict[(key, arr)])\n",
    "\n",
    "len(res_new)\n",
    "#125432\n",
    "#62275\n",
    "#243316\n",
    "#97811\n",
    "#428862\n",
    "#138359"
   ]
  },
  {
   "cell_type": "code",
   "execution_count": 46,
   "metadata": {
    "collapsed": false
   },
   "outputs": [],
   "source": [
    "save_obj(res_new, \"res_new_2_cheat\")  "
   ]
  },
  {
   "cell_type": "code",
   "execution_count": null,
   "metadata": {
    "collapsed": false
   },
   "outputs": [],
   "source": [
    "save_obj(res_new, \"res_new_2\")  "
   ]
  },
  {
   "cell_type": "code",
   "execution_count": 51,
   "metadata": {
    "collapsed": false
   },
   "outputs": [
    {
     "name": "stderr",
     "output_type": "stream",
     "text": [
      "\n",
      "\r",
      "  0%|          | 0/100 [00:00<?, ?it/s]"
     ]
    },
    {
     "name": "stdout",
     "output_type": "stream",
     "text": [
      "462148\n"
     ]
    },
    {
     "name": "stderr",
     "output_type": "stream",
     "text": [
      "\u001b[A\n",
      "  1%|          | 1/100 [00:22<36:34, 22.17s/it]"
     ]
    },
    {
     "name": "stdout",
     "output_type": "stream",
     "text": [
      "94\n"
     ]
    },
    {
     "name": "stderr",
     "output_type": "stream",
     "text": [
      "\r",
      "  2%|▏         | 2/100 [00:41<34:46, 21.29s/it]"
     ]
    },
    {
     "name": "stdout",
     "output_type": "stream",
     "text": [
      "94\n"
     ]
    },
    {
     "name": "stderr",
     "output_type": "stream",
     "text": [
      "\r",
      "  3%|▎         | 3/100 [00:59<32:50, 20.31s/it]"
     ]
    },
    {
     "name": "stdout",
     "output_type": "stream",
     "text": [
      "94\n"
     ]
    },
    {
     "name": "stderr",
     "output_type": "stream",
     "text": [
      "\r",
      "  4%|▍         | 4/100 [01:17<31:24, 19.63s/it]"
     ]
    },
    {
     "name": "stdout",
     "output_type": "stream",
     "text": [
      "94\n"
     ]
    },
    {
     "name": "stderr",
     "output_type": "stream",
     "text": [
      "\r",
      "  5%|▌         | 5/100 [01:35<30:27, 19.24s/it]"
     ]
    },
    {
     "name": "stdout",
     "output_type": "stream",
     "text": [
      "98\n"
     ]
    },
    {
     "name": "stderr",
     "output_type": "stream",
     "text": [
      "\r",
      "  6%|▌         | 6/100 [01:55<30:12, 19.28s/it]"
     ]
    },
    {
     "name": "stdout",
     "output_type": "stream",
     "text": [
      "102\n"
     ]
    },
    {
     "name": "stderr",
     "output_type": "stream",
     "text": [
      "\r",
      "  7%|▋         | 7/100 [02:13<29:22, 18.95s/it]"
     ]
    },
    {
     "name": "stdout",
     "output_type": "stream",
     "text": [
      "105\n"
     ]
    },
    {
     "name": "stderr",
     "output_type": "stream",
     "text": [
      "\r",
      "  8%|▊         | 8/100 [02:31<28:49, 18.80s/it]"
     ]
    },
    {
     "name": "stdout",
     "output_type": "stream",
     "text": [
      "107\n"
     ]
    },
    {
     "name": "stderr",
     "output_type": "stream",
     "text": [
      "\r",
      "  9%|▉         | 9/100 [02:50<28:24, 18.73s/it]"
     ]
    },
    {
     "name": "stdout",
     "output_type": "stream",
     "text": [
      "109\n"
     ]
    },
    {
     "name": "stderr",
     "output_type": "stream",
     "text": [
      "\r",
      " 10%|█         | 10/100 [03:08<27:49, 18.55s/it]"
     ]
    },
    {
     "name": "stdout",
     "output_type": "stream",
     "text": [
      "111\n"
     ]
    },
    {
     "name": "stderr",
     "output_type": "stream",
     "text": [
      "\r",
      " 11%|█         | 11/100 [03:26<27:23, 18.46s/it]"
     ]
    },
    {
     "name": "stdout",
     "output_type": "stream",
     "text": [
      "112\n"
     ]
    },
    {
     "name": "stderr",
     "output_type": "stream",
     "text": [
      "\r",
      " 12%|█▏        | 12/100 [03:44<26:53, 18.34s/it]"
     ]
    },
    {
     "name": "stdout",
     "output_type": "stream",
     "text": [
      "112\n"
     ]
    },
    {
     "name": "stderr",
     "output_type": "stream",
     "text": [
      "\r",
      " 13%|█▎        | 13/100 [04:03<26:36, 18.35s/it]"
     ]
    },
    {
     "name": "stdout",
     "output_type": "stream",
     "text": [
      "115\n"
     ]
    },
    {
     "name": "stderr",
     "output_type": "stream",
     "text": [
      "\r",
      " 14%|█▍        | 14/100 [04:21<26:25, 18.44s/it]"
     ]
    },
    {
     "name": "stdout",
     "output_type": "stream",
     "text": [
      "116\n"
     ]
    },
    {
     "name": "stderr",
     "output_type": "stream",
     "text": [
      "\r",
      " 15%|█▌        | 15/100 [04:40<26:25, 18.65s/it]"
     ]
    },
    {
     "name": "stdout",
     "output_type": "stream",
     "text": [
      "117\n"
     ]
    },
    {
     "name": "stderr",
     "output_type": "stream",
     "text": [
      "\r",
      " 16%|█▌        | 16/100 [04:59<26:00, 18.58s/it]"
     ]
    },
    {
     "name": "stdout",
     "output_type": "stream",
     "text": [
      "118\n"
     ]
    },
    {
     "name": "stderr",
     "output_type": "stream",
     "text": [
      "\r",
      " 17%|█▋        | 17/100 [05:17<25:38, 18.53s/it]"
     ]
    },
    {
     "name": "stdout",
     "output_type": "stream",
     "text": [
      "119\n"
     ]
    },
    {
     "name": "stderr",
     "output_type": "stream",
     "text": [
      "\r",
      " 18%|█▊        | 18/100 [05:36<25:20, 18.54s/it]"
     ]
    },
    {
     "name": "stdout",
     "output_type": "stream",
     "text": [
      "119\n"
     ]
    },
    {
     "name": "stderr",
     "output_type": "stream",
     "text": [
      "\r",
      " 19%|█▉        | 19/100 [05:54<24:54, 18.45s/it]"
     ]
    },
    {
     "name": "stdout",
     "output_type": "stream",
     "text": [
      "120\n"
     ]
    },
    {
     "name": "stderr",
     "output_type": "stream",
     "text": [
      "\r",
      " 20%|██        | 20/100 [06:13<24:39, 18.50s/it]"
     ]
    },
    {
     "name": "stdout",
     "output_type": "stream",
     "text": [
      "121\n"
     ]
    },
    {
     "name": "stderr",
     "output_type": "stream",
     "text": [
      "\r",
      " 21%|██        | 21/100 [06:31<24:22, 18.51s/it]"
     ]
    },
    {
     "name": "stdout",
     "output_type": "stream",
     "text": [
      "122\n"
     ]
    },
    {
     "name": "stderr",
     "output_type": "stream",
     "text": [
      "\r",
      " 22%|██▏       | 22/100 [06:50<23:58, 18.44s/it]"
     ]
    },
    {
     "name": "stdout",
     "output_type": "stream",
     "text": [
      "122\n"
     ]
    },
    {
     "name": "stderr",
     "output_type": "stream",
     "text": [
      "\r",
      " 23%|██▎       | 23/100 [07:16<26:56, 20.99s/it]"
     ]
    },
    {
     "name": "stdout",
     "output_type": "stream",
     "text": [
      "122\n"
     ]
    },
    {
     "name": "stderr",
     "output_type": "stream",
     "text": [
      "\r",
      " 24%|██▍       | 24/100 [07:35<25:50, 20.40s/it]"
     ]
    },
    {
     "name": "stdout",
     "output_type": "stream",
     "text": [
      "122\n"
     ]
    },
    {
     "name": "stderr",
     "output_type": "stream",
     "text": [
      "\r",
      " 25%|██▌       | 25/100 [07:56<25:31, 20.42s/it]"
     ]
    },
    {
     "name": "stdout",
     "output_type": "stream",
     "text": [
      "123\n"
     ]
    },
    {
     "name": "stderr",
     "output_type": "stream",
     "text": [
      "\r",
      " 26%|██▌       | 26/100 [08:14<24:28, 19.84s/it]"
     ]
    },
    {
     "name": "stdout",
     "output_type": "stream",
     "text": [
      "123\n"
     ]
    },
    {
     "name": "stderr",
     "output_type": "stream",
     "text": [
      "\r",
      " 27%|██▋       | 27/100 [08:33<23:36, 19.41s/it]"
     ]
    },
    {
     "name": "stdout",
     "output_type": "stream",
     "text": [
      "123\n"
     ]
    },
    {
     "name": "stderr",
     "output_type": "stream",
     "text": [
      "\r",
      " 28%|██▊       | 28/100 [08:51<22:53, 19.07s/it]"
     ]
    },
    {
     "name": "stdout",
     "output_type": "stream",
     "text": [
      "124\n"
     ]
    },
    {
     "name": "stderr",
     "output_type": "stream",
     "text": [
      "\r",
      " 29%|██▉       | 29/100 [09:12<23:10, 19.59s/it]"
     ]
    },
    {
     "name": "stdout",
     "output_type": "stream",
     "text": [
      "124\n"
     ]
    },
    {
     "name": "stderr",
     "output_type": "stream",
     "text": [
      "\r",
      " 30%|███       | 30/100 [09:30<22:23, 19.20s/it]"
     ]
    },
    {
     "name": "stdout",
     "output_type": "stream",
     "text": [
      "124\n"
     ]
    },
    {
     "name": "stderr",
     "output_type": "stream",
     "text": [
      "\r",
      " 31%|███       | 31/100 [09:48<21:44, 18.90s/it]"
     ]
    },
    {
     "name": "stdout",
     "output_type": "stream",
     "text": [
      "124\n"
     ]
    },
    {
     "name": "stderr",
     "output_type": "stream",
     "text": [
      "\r",
      " 32%|███▏      | 32/100 [10:07<21:23, 18.87s/it]"
     ]
    },
    {
     "name": "stdout",
     "output_type": "stream",
     "text": [
      "124\n"
     ]
    },
    {
     "name": "stderr",
     "output_type": "stream",
     "text": [
      "\r",
      " 33%|███▎      | 33/100 [10:26<21:06, 18.90s/it]"
     ]
    },
    {
     "name": "stdout",
     "output_type": "stream",
     "text": [
      "124\n"
     ]
    },
    {
     "name": "stderr",
     "output_type": "stream",
     "text": [
      "\r",
      " 34%|███▍      | 34/100 [10:45<20:45, 18.88s/it]"
     ]
    },
    {
     "name": "stdout",
     "output_type": "stream",
     "text": [
      "125\n"
     ]
    },
    {
     "name": "stderr",
     "output_type": "stream",
     "text": [
      "\r",
      " 35%|███▌      | 35/100 [11:03<20:16, 18.72s/it]"
     ]
    },
    {
     "name": "stdout",
     "output_type": "stream",
     "text": [
      "126\n"
     ]
    },
    {
     "name": "stderr",
     "output_type": "stream",
     "text": [
      "\r",
      " 36%|███▌      | 36/100 [11:23<20:12, 18.95s/it]"
     ]
    },
    {
     "name": "stdout",
     "output_type": "stream",
     "text": [
      "126\n"
     ]
    },
    {
     "name": "stderr",
     "output_type": "stream",
     "text": [
      "\r",
      " 37%|███▋      | 37/100 [11:43<20:19, 19.35s/it]"
     ]
    },
    {
     "name": "stdout",
     "output_type": "stream",
     "text": [
      "127\n"
     ]
    },
    {
     "name": "stderr",
     "output_type": "stream",
     "text": [
      "\r",
      " 38%|███▊      | 38/100 [12:03<20:13, 19.57s/it]"
     ]
    },
    {
     "name": "stdout",
     "output_type": "stream",
     "text": [
      "128\n"
     ]
    },
    {
     "name": "stderr",
     "output_type": "stream",
     "text": [
      "\r",
      " 39%|███▉      | 39/100 [12:22<19:33, 19.23s/it]"
     ]
    },
    {
     "name": "stdout",
     "output_type": "stream",
     "text": [
      "128\n"
     ]
    },
    {
     "name": "stderr",
     "output_type": "stream",
     "text": [
      "\r",
      " 40%|████      | 40/100 [12:42<19:42, 19.71s/it]"
     ]
    },
    {
     "name": "stdout",
     "output_type": "stream",
     "text": [
      "128\n"
     ]
    },
    {
     "name": "stderr",
     "output_type": "stream",
     "text": [
      "\r",
      " 41%|████      | 41/100 [13:02<19:18, 19.64s/it]"
     ]
    },
    {
     "name": "stdout",
     "output_type": "stream",
     "text": [
      "128\n"
     ]
    },
    {
     "name": "stderr",
     "output_type": "stream",
     "text": [
      "\r",
      " 42%|████▏     | 42/100 [13:21<18:56, 19.59s/it]"
     ]
    },
    {
     "name": "stdout",
     "output_type": "stream",
     "text": [
      "128\n"
     ]
    },
    {
     "name": "stderr",
     "output_type": "stream",
     "text": [
      "\r",
      " 43%|████▎     | 43/100 [13:40<18:16, 19.24s/it]"
     ]
    },
    {
     "name": "stdout",
     "output_type": "stream",
     "text": [
      "128\n"
     ]
    },
    {
     "name": "stderr",
     "output_type": "stream",
     "text": [
      "\r",
      " 44%|████▍     | 44/100 [13:58<17:44, 19.01s/it]"
     ]
    },
    {
     "name": "stdout",
     "output_type": "stream",
     "text": [
      "129\n"
     ]
    },
    {
     "name": "stderr",
     "output_type": "stream",
     "text": [
      "\r",
      " 45%|████▌     | 45/100 [14:17<17:22, 18.95s/it]"
     ]
    },
    {
     "name": "stdout",
     "output_type": "stream",
     "text": [
      "129\n"
     ]
    },
    {
     "name": "stderr",
     "output_type": "stream",
     "text": [
      "\r",
      " 46%|████▌     | 46/100 [14:36<17:06, 19.00s/it]"
     ]
    },
    {
     "name": "stdout",
     "output_type": "stream",
     "text": [
      "129\n"
     ]
    },
    {
     "name": "stderr",
     "output_type": "stream",
     "text": [
      "\r",
      " 47%|████▋     | 47/100 [14:55<16:42, 18.91s/it]"
     ]
    },
    {
     "name": "stdout",
     "output_type": "stream",
     "text": [
      "131\n"
     ]
    },
    {
     "name": "stderr",
     "output_type": "stream",
     "text": [
      "\r",
      " 48%|████▊     | 48/100 [15:13<16:14, 18.73s/it]"
     ]
    },
    {
     "name": "stdout",
     "output_type": "stream",
     "text": [
      "131\n"
     ]
    },
    {
     "name": "stderr",
     "output_type": "stream",
     "text": [
      "\r",
      " 49%|████▉     | 49/100 [15:32<15:47, 18.59s/it]"
     ]
    },
    {
     "name": "stdout",
     "output_type": "stream",
     "text": [
      "131\n"
     ]
    },
    {
     "name": "stderr",
     "output_type": "stream",
     "text": [
      "\r",
      " 50%|█████     | 50/100 [15:50<15:28, 18.56s/it]"
     ]
    },
    {
     "name": "stdout",
     "output_type": "stream",
     "text": [
      "131\n"
     ]
    },
    {
     "name": "stderr",
     "output_type": "stream",
     "text": [
      "\r",
      " 51%|█████     | 51/100 [16:09<15:12, 18.62s/it]"
     ]
    },
    {
     "name": "stdout",
     "output_type": "stream",
     "text": [
      "131\n"
     ]
    },
    {
     "name": "stderr",
     "output_type": "stream",
     "text": [
      "\r",
      " 52%|█████▏    | 52/100 [16:27<14:53, 18.62s/it]"
     ]
    },
    {
     "name": "stdout",
     "output_type": "stream",
     "text": [
      "131\n"
     ]
    },
    {
     "name": "stderr",
     "output_type": "stream",
     "text": [
      "\r",
      " 53%|█████▎    | 53/100 [16:47<14:45, 18.83s/it]"
     ]
    },
    {
     "name": "stdout",
     "output_type": "stream",
     "text": [
      "131\n"
     ]
    },
    {
     "name": "stderr",
     "output_type": "stream",
     "text": [
      "\r",
      " 54%|█████▍    | 54/100 [17:06<14:28, 18.87s/it]"
     ]
    },
    {
     "name": "stdout",
     "output_type": "stream",
     "text": [
      "131\n"
     ]
    },
    {
     "name": "stderr",
     "output_type": "stream",
     "text": [
      "\r",
      " 55%|█████▌    | 55/100 [17:26<14:25, 19.23s/it]"
     ]
    },
    {
     "name": "stdout",
     "output_type": "stream",
     "text": [
      "132\n"
     ]
    },
    {
     "name": "stderr",
     "output_type": "stream",
     "text": [
      "\r",
      " 56%|█████▌    | 56/100 [17:45<14:08, 19.29s/it]"
     ]
    },
    {
     "name": "stdout",
     "output_type": "stream",
     "text": [
      "132\n"
     ]
    },
    {
     "name": "stderr",
     "output_type": "stream",
     "text": [
      "\r",
      " 57%|█████▋    | 57/100 [18:04<13:40, 19.09s/it]"
     ]
    },
    {
     "name": "stdout",
     "output_type": "stream",
     "text": [
      "132\n"
     ]
    },
    {
     "name": "stderr",
     "output_type": "stream",
     "text": [
      "\r",
      " 58%|█████▊    | 58/100 [18:23<13:26, 19.20s/it]"
     ]
    },
    {
     "name": "stdout",
     "output_type": "stream",
     "text": [
      "132\n"
     ]
    },
    {
     "name": "stderr",
     "output_type": "stream",
     "text": [
      "\r",
      " 59%|█████▉    | 59/100 [18:45<13:41, 20.04s/it]"
     ]
    },
    {
     "name": "stdout",
     "output_type": "stream",
     "text": [
      "132\n"
     ]
    },
    {
     "name": "stderr",
     "output_type": "stream",
     "text": [
      "\r",
      " 60%|██████    | 60/100 [19:05<13:23, 20.08s/it]"
     ]
    },
    {
     "name": "stdout",
     "output_type": "stream",
     "text": [
      "132\n"
     ]
    },
    {
     "name": "stderr",
     "output_type": "stream",
     "text": [
      "\r",
      " 61%|██████    | 61/100 [19:24<12:45, 19.62s/it]"
     ]
    },
    {
     "name": "stdout",
     "output_type": "stream",
     "text": [
      "132\n"
     ]
    },
    {
     "name": "stderr",
     "output_type": "stream",
     "text": [
      "\r",
      " 62%|██████▏   | 62/100 [19:42<12:08, 19.16s/it]"
     ]
    },
    {
     "name": "stdout",
     "output_type": "stream",
     "text": [
      "133\n"
     ]
    },
    {
     "name": "stderr",
     "output_type": "stream",
     "text": [
      "\r",
      " 63%|██████▎   | 63/100 [20:00<11:38, 18.87s/it]"
     ]
    },
    {
     "name": "stdout",
     "output_type": "stream",
     "text": [
      "133\n"
     ]
    },
    {
     "name": "stderr",
     "output_type": "stream",
     "text": [
      "\r",
      " 64%|██████▍   | 64/100 [20:19<11:14, 18.73s/it]"
     ]
    },
    {
     "name": "stdout",
     "output_type": "stream",
     "text": [
      "134\n"
     ]
    },
    {
     "name": "stderr",
     "output_type": "stream",
     "text": [
      "\r",
      " 65%|██████▌   | 65/100 [20:37<10:49, 18.56s/it]"
     ]
    },
    {
     "name": "stdout",
     "output_type": "stream",
     "text": [
      "134\n"
     ]
    },
    {
     "name": "stderr",
     "output_type": "stream",
     "text": [
      "\r",
      " 66%|██████▌   | 66/100 [20:56<10:32, 18.62s/it]"
     ]
    },
    {
     "name": "stdout",
     "output_type": "stream",
     "text": [
      "134\n"
     ]
    },
    {
     "name": "stderr",
     "output_type": "stream",
     "text": [
      "\r",
      " 67%|██████▋   | 67/100 [21:14<10:14, 18.63s/it]"
     ]
    },
    {
     "name": "stdout",
     "output_type": "stream",
     "text": [
      "134\n"
     ]
    },
    {
     "name": "stderr",
     "output_type": "stream",
     "text": [
      "\r",
      " 68%|██████▊   | 68/100 [21:33<09:59, 18.73s/it]"
     ]
    },
    {
     "name": "stdout",
     "output_type": "stream",
     "text": [
      "134\n"
     ]
    },
    {
     "name": "stderr",
     "output_type": "stream",
     "text": [
      "\r",
      " 69%|██████▉   | 69/100 [21:52<09:37, 18.62s/it]"
     ]
    },
    {
     "name": "stdout",
     "output_type": "stream",
     "text": [
      "134\n"
     ]
    },
    {
     "name": "stderr",
     "output_type": "stream",
     "text": [
      "\r",
      " 70%|███████   | 70/100 [22:10<09:18, 18.61s/it]"
     ]
    },
    {
     "name": "stdout",
     "output_type": "stream",
     "text": [
      "134\n"
     ]
    },
    {
     "name": "stderr",
     "output_type": "stream",
     "text": [
      "\r",
      " 71%|███████   | 71/100 [22:29<09:03, 18.73s/it]"
     ]
    },
    {
     "name": "stdout",
     "output_type": "stream",
     "text": [
      "135\n"
     ]
    },
    {
     "name": "stderr",
     "output_type": "stream",
     "text": [
      "\r",
      " 72%|███████▏  | 72/100 [22:47<08:40, 18.60s/it]"
     ]
    },
    {
     "name": "stdout",
     "output_type": "stream",
     "text": [
      "135\n"
     ]
    },
    {
     "name": "stderr",
     "output_type": "stream",
     "text": [
      "\r",
      " 73%|███████▎  | 73/100 [23:06<08:21, 18.57s/it]"
     ]
    },
    {
     "name": "stdout",
     "output_type": "stream",
     "text": [
      "135\n"
     ]
    },
    {
     "name": "stderr",
     "output_type": "stream",
     "text": [
      "\r",
      " 74%|███████▍  | 74/100 [23:24<07:59, 18.45s/it]"
     ]
    },
    {
     "name": "stdout",
     "output_type": "stream",
     "text": [
      "135\n"
     ]
    },
    {
     "name": "stderr",
     "output_type": "stream",
     "text": [
      "\r",
      " 75%|███████▌  | 75/100 [23:43<07:41, 18.47s/it]"
     ]
    },
    {
     "name": "stdout",
     "output_type": "stream",
     "text": [
      "135\n"
     ]
    },
    {
     "name": "stderr",
     "output_type": "stream",
     "text": [
      "\r",
      " 76%|███████▌  | 76/100 [24:01<07:22, 18.43s/it]"
     ]
    },
    {
     "name": "stdout",
     "output_type": "stream",
     "text": [
      "135\n"
     ]
    },
    {
     "name": "stderr",
     "output_type": "stream",
     "text": [
      "\r",
      " 77%|███████▋  | 77/100 [24:19<07:04, 18.45s/it]"
     ]
    },
    {
     "name": "stdout",
     "output_type": "stream",
     "text": [
      "135\n"
     ]
    },
    {
     "name": "stderr",
     "output_type": "stream",
     "text": [
      "\r",
      " 78%|███████▊  | 78/100 [24:39<06:52, 18.74s/it]"
     ]
    },
    {
     "name": "stdout",
     "output_type": "stream",
     "text": [
      "135\n"
     ]
    },
    {
     "name": "stderr",
     "output_type": "stream",
     "text": [
      "\r",
      " 79%|███████▉  | 79/100 [24:58<06:34, 18.79s/it]"
     ]
    },
    {
     "name": "stdout",
     "output_type": "stream",
     "text": [
      "135\n"
     ]
    },
    {
     "name": "stderr",
     "output_type": "stream",
     "text": [
      "\r",
      " 80%|████████  | 80/100 [25:17<06:19, 18.96s/it]"
     ]
    },
    {
     "name": "stdout",
     "output_type": "stream",
     "text": [
      "135\n"
     ]
    },
    {
     "name": "stderr",
     "output_type": "stream",
     "text": [
      "\r",
      " 81%|████████  | 81/100 [25:37<06:03, 19.12s/it]"
     ]
    },
    {
     "name": "stdout",
     "output_type": "stream",
     "text": [
      "135\n"
     ]
    },
    {
     "name": "stderr",
     "output_type": "stream",
     "text": [
      "\r",
      " 82%|████████▏ | 82/100 [25:56<05:45, 19.22s/it]"
     ]
    },
    {
     "name": "stdout",
     "output_type": "stream",
     "text": [
      "135\n"
     ]
    },
    {
     "name": "stderr",
     "output_type": "stream",
     "text": [
      "\r",
      " 83%|████████▎ | 83/100 [26:14<05:22, 18.96s/it]"
     ]
    },
    {
     "name": "stdout",
     "output_type": "stream",
     "text": [
      "135\n"
     ]
    },
    {
     "name": "stderr",
     "output_type": "stream",
     "text": [
      "\r",
      " 84%|████████▍ | 84/100 [26:33<05:02, 18.92s/it]"
     ]
    },
    {
     "name": "stdout",
     "output_type": "stream",
     "text": [
      "135\n"
     ]
    },
    {
     "name": "stderr",
     "output_type": "stream",
     "text": [
      "\r",
      " 85%|████████▌ | 85/100 [26:52<04:44, 18.94s/it]"
     ]
    },
    {
     "name": "stdout",
     "output_type": "stream",
     "text": [
      "135\n"
     ]
    },
    {
     "name": "stderr",
     "output_type": "stream",
     "text": [
      "\r",
      " 86%|████████▌ | 86/100 [27:11<04:23, 18.85s/it]"
     ]
    },
    {
     "name": "stdout",
     "output_type": "stream",
     "text": [
      "135\n"
     ]
    },
    {
     "name": "stderr",
     "output_type": "stream",
     "text": [
      "\r",
      " 87%|████████▋ | 87/100 [27:30<04:04, 18.81s/it]"
     ]
    },
    {
     "name": "stdout",
     "output_type": "stream",
     "text": [
      "135\n"
     ]
    },
    {
     "name": "stderr",
     "output_type": "stream",
     "text": [
      "\r",
      " 88%|████████▊ | 88/100 [27:48<03:44, 18.73s/it]"
     ]
    },
    {
     "name": "stdout",
     "output_type": "stream",
     "text": [
      "135\n"
     ]
    },
    {
     "name": "stderr",
     "output_type": "stream",
     "text": [
      "\r",
      " 89%|████████▉ | 89/100 [28:07<03:26, 18.73s/it]"
     ]
    },
    {
     "name": "stdout",
     "output_type": "stream",
     "text": [
      "135\n"
     ]
    },
    {
     "name": "stderr",
     "output_type": "stream",
     "text": [
      "\r",
      " 90%|█████████ | 90/100 [28:26<03:07, 18.73s/it]"
     ]
    },
    {
     "name": "stdout",
     "output_type": "stream",
     "text": [
      "135\n"
     ]
    },
    {
     "name": "stderr",
     "output_type": "stream",
     "text": [
      "\r",
      " 91%|█████████ | 91/100 [28:44<02:48, 18.72s/it]"
     ]
    },
    {
     "name": "stdout",
     "output_type": "stream",
     "text": [
      "135\n"
     ]
    },
    {
     "name": "stderr",
     "output_type": "stream",
     "text": [
      "\r",
      " 92%|█████████▏| 92/100 [29:03<02:29, 18.70s/it]"
     ]
    },
    {
     "name": "stdout",
     "output_type": "stream",
     "text": [
      "135\n"
     ]
    },
    {
     "name": "stderr",
     "output_type": "stream",
     "text": [
      "\r",
      " 93%|█████████▎| 93/100 [29:22<02:11, 18.73s/it]"
     ]
    },
    {
     "name": "stdout",
     "output_type": "stream",
     "text": [
      "135\n"
     ]
    },
    {
     "name": "stderr",
     "output_type": "stream",
     "text": [
      "\r",
      " 94%|█████████▍| 94/100 [29:40<01:51, 18.60s/it]"
     ]
    },
    {
     "name": "stdout",
     "output_type": "stream",
     "text": [
      "135\n"
     ]
    },
    {
     "name": "stderr",
     "output_type": "stream",
     "text": [
      "\r",
      " 95%|█████████▌| 95/100 [29:59<01:32, 18.57s/it]"
     ]
    },
    {
     "name": "stdout",
     "output_type": "stream",
     "text": [
      "135\n"
     ]
    },
    {
     "name": "stderr",
     "output_type": "stream",
     "text": [
      "\r",
      " 96%|█████████▌| 96/100 [30:17<01:14, 18.63s/it]"
     ]
    },
    {
     "name": "stdout",
     "output_type": "stream",
     "text": [
      "135\n"
     ]
    },
    {
     "name": "stderr",
     "output_type": "stream",
     "text": [
      "\r",
      " 97%|█████████▋| 97/100 [30:36<00:55, 18.56s/it]"
     ]
    },
    {
     "name": "stdout",
     "output_type": "stream",
     "text": [
      "135\n"
     ]
    },
    {
     "name": "stderr",
     "output_type": "stream",
     "text": [
      "\r",
      " 98%|█████████▊| 98/100 [30:54<00:36, 18.47s/it]"
     ]
    },
    {
     "name": "stdout",
     "output_type": "stream",
     "text": [
      "135\n"
     ]
    },
    {
     "name": "stderr",
     "output_type": "stream",
     "text": [
      "\r",
      " 99%|█████████▉| 99/100 [31:13<00:18, 18.73s/it]"
     ]
    },
    {
     "name": "stdout",
     "output_type": "stream",
     "text": [
      "135\n"
     ]
    },
    {
     "name": "stderr",
     "output_type": "stream",
     "text": [
      "\r",
      "100%|██████████| 100/100 [31:33<00:00, 19.02s/it]"
     ]
    },
    {
     "name": "stdout",
     "output_type": "stream",
     "text": [
      "135\n"
     ]
    },
    {
     "name": "stderr",
     "output_type": "stream",
     "text": [
      "\n"
     ]
    }
   ],
   "source": [
    "test_set = load_obj(\"test_set_2_new_digits_x\")\n",
    "#print(len(test_set))\n",
    "\n",
    "res_new = load_obj(\"res_new_2_cheat\")  \n",
    "#res_new = load_obj(\"res_new_2\")  \n",
    "\n",
    "files = os.listdir(DATA_INPUT_PATH)\n",
    "for file in tqdm(files):\n",
    "    df = pd.read_csv(DATA_INPUT_PATH+\"/\"+file, sep=\"\\t\", low_memory = False, error_bad_lines = False, quoting=3)\n",
    "    df.columns = [0,1,2]\n",
    "    \n",
    "    #dp = df[df[1].isin(multi_words)] \n",
    "    dp = df[df[1].isin(ss)] \n",
    "    \n",
    "    before = df[1]\n",
    "    after = df[2]\n",
    "    \n",
    "    big_set = set()\n",
    "    big_dict = dict()\n",
    "    \n",
    "    for i in dp.index:\n",
    "        arr = [before[i], after[i]]\n",
    "        if arr[1] == '<self>' or arr[1] == 'sil':\n",
    "            arr[1] = arr[0]\n",
    "        \n",
    "        try:\n",
    "            if before[i-2]==\"<eos>\":\n",
    "                lost = \"\"\n",
    "            else:\n",
    "                lost = before[i-2]\n",
    "        except:\n",
    "            lost = \"\"\n",
    "        \n",
    "        try:\n",
    "            if before[i-1]==\"<eos>\":\n",
    "                last = \"\"\n",
    "            else:\n",
    "                last = before[i-1]\n",
    "        except:\n",
    "            last = \"\"\n",
    "            \n",
    "        if last==\"\":\n",
    "            lost=\"\"\n",
    "            \n",
    "        try:\n",
    "            if before[i+1]==\"<eos>\":\n",
    "                nex = \"\"\n",
    "            else:\n",
    "                nex = before[i+1]\n",
    "        except:\n",
    "            nex = \"\"\n",
    "        try:\n",
    "            if before[i+2]==\"<eos>\":\n",
    "                nexx = \"\"\n",
    "            else:\n",
    "                nexx = before[i+2]\n",
    "        except:\n",
    "            nexx = \"\"\n",
    "        if nex==\"\":\n",
    "            nexx=\"\"\n",
    "            \n",
    "        if ((lost, last, arr[0], nex, nexx) in sss):\n",
    "            ans = before[i]\n",
    "            t = 0\n",
    "            j=i-1\n",
    "            while before[j] != \"<eos>\":\n",
    "                ans = before[j] + \"___\" + ans\n",
    "                t+=1\n",
    "                j-=1\n",
    "                if j==-1:\n",
    "                    break\n",
    "            \n",
    "            j=i+1\n",
    "            while before[j] != \"<eos>\":\n",
    "                ans +=  \"___\" + before[j]\n",
    "                j+=1                 \n",
    "                \n",
    "            try:\n",
    "                res_new[arr[0]].add((arr[1], t, ans))\n",
    "            except:\n",
    "                res_new[arr[0]] = {(arr[1], t, ans)}\n",
    "\n",
    "        \n",
    "#         for key in [(lost, last, arr[0], nex, nexx),\n",
    "                \n",
    "#                     (lost, last, arr[0], nex, None),\n",
    "#                     (None, last, arr[0], nex, nexx),\n",
    "\n",
    "#                     (lost, last, arr[0], None, None),\n",
    "#                     (None, last, arr[0], nex, None),\n",
    "#                     (None, None, arr[0], nex, nexx),\n",
    "\n",
    "#                     (None, last, arr[0], None, None), \n",
    "#                     (None, None, arr[0], nex, None),\n",
    "\n",
    "#                     (None, None, arr[0], None, None)]:\n",
    "            \n",
    "#             big_set.add(key)\n",
    "#             try:\n",
    "#                 big_dict[(key, arr[1])]+= 1\n",
    "#             except:\n",
    "#                 big_dict[(key, arr[1])] = 1\n",
    "    \n",
    "#     inter = big_set & test_set\n",
    "#     for key, arr in list(big_dict):\n",
    "#         if key in inter:\n",
    "#             insert_key(key, arr, big_dict[(key, arr)])\n",
    "    print(len(res_new))\n",
    "\n",
    "\n",
    "\n",
    "#243316\n",
    "#236993\n",
    "#428862\n",
    "#424731\n",
    "#428823"
   ]
  },
  {
   "cell_type": "code",
   "execution_count": 52,
   "metadata": {
    "collapsed": true
   },
   "outputs": [],
   "source": [
    "save_obj(res_new, \"res_upd_2_cheat\")  "
   ]
  },
  {
   "cell_type": "code",
   "execution_count": null,
   "metadata": {
    "collapsed": false
   },
   "outputs": [],
   "source": [
    "save_obj(res_new, \"res_upd_2\")  "
   ]
  },
  {
   "cell_type": "code",
   "execution_count": 70,
   "metadata": {
    "collapsed": false
   },
   "outputs": [
    {
     "name": "stdout",
     "output_type": "stream",
     "text": [
      "двумя тысячами девятью\n"
     ]
    }
   ],
   "source": [
    "for x in res_new['2009']:\n",
    "    print(x[0])"
   ]
  },
  {
   "cell_type": "code",
   "execution_count": 295,
   "metadata": {
    "collapsed": false
   },
   "outputs": [
    {
     "name": "stderr",
     "output_type": "stream",
     "text": [
      " 82%|████████▏ | 814528/989880 [03:02<00:53, 3284.03it/s]"
     ]
    },
    {
     "name": "stdout",
     "output_type": "stream",
     "text": [
      "0201\n",
      "0201\n"
     ]
    },
    {
     "name": "stderr",
     "output_type": "stream",
     "text": [
      " 85%|████████▌ | 843506/989880 [03:09<00:33, 4342.64it/s]"
     ]
    },
    {
     "name": "stdout",
     "output_type": "stream",
     "text": [
      "701\n",
      "701\n",
      "701\n"
     ]
    },
    {
     "name": "stderr",
     "output_type": "stream",
     "text": [
      " 91%|█████████ | 897991/989880 [03:23<00:38, 2379.31it/s]"
     ]
    },
    {
     "name": "stdout",
     "output_type": "stream",
     "text": [
      "676\n",
      "676\n"
     ]
    },
    {
     "name": "stderr",
     "output_type": "stream",
     "text": [
      "100%|██████████| 989880/989880 [03:46<00:00, 4372.95it/s]\n"
     ]
    },
    {
     "name": "stdout",
     "output_type": "stream",
     "text": [
      "18 0 11951\n"
     ]
    },
    {
     "data": {
      "text/plain": [
       " 0.0       766756\n",
       " 1.0       117085\n",
       " 2.0        31352\n",
       " 10.0       23772\n",
       " 20.0        9538\n",
       "-6.0         7011\n",
       " 40.0        5760\n",
       " 30.0        5013\n",
       "-3.0         3319\n",
       " 60.0        2645\n",
       " 50.0        2445\n",
       "-1.1         2223\n",
       " 3.0         1995\n",
       " 70.0        1979\n",
       "-21.0        1369\n",
       " 80.0         991\n",
       " 90.0         947\n",
       " 1010.0       851\n",
       "-4.0          556\n",
       " 1040.0       494\n",
       "-50.0         467\n",
       " 1070.0       451\n",
       " 1020.0       439\n",
       "-22.0         430\n",
       "-1.2          309\n",
       "-5.0          281\n",
       "-13.0         231\n",
       "-10.0         222\n",
       " 1030.0       173\n",
       " 1060.0       170\n",
       " 1080.0       168\n",
       " 1050.0       146\n",
       " 1090.0       114\n",
       "-7.0           92\n",
       "-2.0           86\n",
       "Name: type, dtype: int64"
      ]
     },
     "execution_count": 295,
     "metadata": {},
     "output_type": "execute_result"
    }
   ],
   "source": [
    "res_new  = load_obj(\"res_new_2_cheat\") \n",
    "res_upd  = load_obj(\"res_upd_2\")\n",
    "s = load_obj(\"s_digits\")\n",
    "res = [x for x in res_new if len(res_new[x])==1]\n",
    "\n",
    "ch = {\"0\":\"ноль\",\n",
    "      \"1\":\"один\",\n",
    "      \"2\":\"два\",\n",
    "      \"3\":\"три\",\n",
    "      \"4\":\"четыре\",\n",
    "      \"5\":\"пять\",\n",
    "      \"6\":\"шесть\",\n",
    "      \"7\":\"семь\",\n",
    "      \"8\":\"восемь\",\n",
    "      \"9\":\"девять\"\n",
    "     }\n",
    "\n",
    "SUB = str.maketrans(\"₀₁₂₃₄₅₆₇₈₉\", \"0123456789\")\n",
    "SUP = str.maketrans(\"⁰¹²³⁴⁵⁶⁷⁸⁹\", \"0123456789\")\n",
    "\n",
    "multi_new = set()\n",
    "multi_upd = list()\n",
    "single_set = set()\n",
    "\n",
    "df = pd.read_csv(\"input/ru_test_2.csv\")\n",
    "\n",
    "before = df.before\n",
    "token = df.token_id\n",
    "sentence = df.sentence_id\n",
    "\n",
    "ides = list()\n",
    "after = list()\n",
    "reason = list()\n",
    "\n",
    "full = {\"проверено\",\"архивировано\", \"с\", \"от\", \"умер\", \"родился\", \"первоисточника\"}\n",
    "space = {\"на\",\"по\"} \n",
    "\n",
    "m = {}\n",
    "m['км²'] = 'квадратных километров'\n",
    "m['км2'] = 'квадратных километров'\n",
    "m['km²'] = 'квадратных километров'\n",
    "m['км'] = 'километрах'\n",
    "m['km'] = 'километрах'\n",
    "m['кг'] = 'килограмма'\n",
    "m['kg'] = 'килограмма'\n",
    "m['m²'] = 'квадратных метров'\n",
    "m['м²'] = 'квадратных метров'\n",
    "m['м³'] = 'кубических метров'\n",
    "\n",
    "m[\"млн\"] = \"миллионов\" \n",
    "m[\"м/с\"] = \"метров в секунду\"\n",
    "m[\"мм\"] = \"миллиметров\"\n",
    "m[\"м\"] = \"метров\"\n",
    "m[\"ч\"] = \"часов\"\n",
    "m[\"л\"] = \"лет\"\n",
    "m[\"тыс\"] = \"тысяч\"\n",
    "m[\"тонн\"] = \"тонн\"\n",
    "m[\"га\"] = \"гектара\"\n",
    "m[\"гг\"] = \"годы\"\n",
    "m[\"млрд\"] = \"миллиардов\"\n",
    "m[\"км/ч\"] = \"километров в час\"\n",
    "m[\"руб\"] = \"рублей\"\n",
    "m[\"с\"] = \"секунд\"\n",
    "m[\"м3\"] = \"кубических метров\"\n",
    "m[\"н. э.\"] = \"нашей эры\"\n",
    "m[\"трлн\"] = \"триллионов\"\n",
    "m[\"$\"] = \"долларов сэ ш а\"\n",
    "m[\"€\"] = \"евро\"\n",
    "m[\"%\"] = \"процентов\"\n",
    "m[\"долл\"] = \"долларов\"\n",
    "m[\"ГВт\"] = \"гигаватт\"\n",
    "m[\"МВт\"] = \"мегаватт\"\n",
    "m[\"кВт\"] = \"киловатт\"\n",
    "m[\"куб.см\"] = \"кубических сантиметров\"\n",
    "m[\"мкм\"] = \"микрометров\"\n",
    "m[\"об/мин\"] = \"оборотов в минуту\"\n",
    "m[\"нм\"] = \"нанометра\"\n",
    "\n",
    "\n",
    "\n",
    "for i in tqdm(range(len(df))):\n",
    "    arr = before[i]\n",
    "    i1 = sentence[i]\n",
    "    i2 = token[i]\n",
    "    \n",
    "    ides.append(str(i1) + '_' + str(i2))\n",
    "    \n",
    "    try:\n",
    "        if token[i-1] == 0:\n",
    "            lost = \"\"\n",
    "        else:\n",
    "            lost = before[i-2]\n",
    "    except:\n",
    "        lost = \"\"\n",
    "        \n",
    "    try:\n",
    "        if token[i] == 0:\n",
    "            last = \"\"\n",
    "        else:\n",
    "            last = before[i-1]\n",
    "    except:\n",
    "        last = \"\"\n",
    "    \n",
    "    if last==\"\":\n",
    "        lost=\"\"\n",
    "        \n",
    "    try:\n",
    "        if token[i+1]==0:\n",
    "            nex = \"\"\n",
    "        else:\n",
    "            nex = before[i+1]\n",
    "    except:\n",
    "        nex = \"\"\n",
    "        \n",
    "    try:\n",
    "        if token[i+2]==0:\n",
    "            nexx = \"\"\n",
    "        else:\n",
    "            nexx = before[i+2]\n",
    "    except:\n",
    "        nexx = \"\"\n",
    "    if nex==\"\":\n",
    "        nexx=\"\"\n",
    "    \n",
    "    if arr in s: \n",
    "        tmp = s[arr]\n",
    "        q=0\n",
    "    elif arr in punct or arr in short:\n",
    "        tmp = arr\n",
    "        q=1\n",
    "    elif arr in dash:\n",
    "        if before[i-2] == \"от\" and lost!=\"\":\n",
    "            tmp = \"до\"\n",
    "            q=3\n",
    "        else:\n",
    "            tmp = arr\n",
    "            q=2\n",
    "#     elif str(arr) == \"nan\":\n",
    "#         tmp = \"н_trans а_trans н_trans\" #\"n a\" \n",
    "#         q = 0              \n",
    "#     elif full_date(arr)!=\"\" and last in full:     \n",
    "#         q = -57\n",
    "#         tmp = full_date(arr)\n",
    "    else:\n",
    "        found = False\n",
    "        q = 1\n",
    "        for key in [(lost, last, arr, nex, nexx),\n",
    "                \n",
    "                    (lost, last, arr, nex, None),\n",
    "                    (None, last, arr, nex, nexx),\n",
    "\n",
    "                    (lost, last, arr, None, None),\n",
    "                    (None, last, arr, nex, None),\n",
    "                    (None, None, arr, nex, nexx),\n",
    "\n",
    "                    (None, last, arr, None, None), \n",
    "                    (None, None, arr, nex, None),\n",
    "\n",
    "                    (None, None, arr, None, None)\n",
    "                   ]:\n",
    "\n",
    "            if key in res_upd:\n",
    "                srtd = sorted(res_upd[key].items(), key=operator.itemgetter(1), reverse=True)\n",
    "                if len(srtd)>1:\n",
    "                    if arr in res_new:\n",
    "                        ans = \"___\".join(list(df[df.sentence_id == df.iloc[i].sentence_id].before))\n",
    "                        for x in res_new[arr]:\n",
    "                            if x[2]==ans:\n",
    "                                found = True\n",
    "                                q = -100\n",
    "                                tmp = x[0]\n",
    "                                break                    \n",
    "                    \n",
    "                    tmp = space_date(arr)\n",
    "                    if tmp !=\"\" and last.lower() in space|{\",\",\"—\",'('}:\n",
    "                        found = True\n",
    "                        q = -22\n",
    "                        break\n",
    "                                        \n",
    "                    tmp = full_date(arr)\n",
    "                    if tmp !=\"\" and last.lower() in full:\n",
    "                        found = True\n",
    "                        q = -21\n",
    "                        break\n",
    "                    \n",
    "                tmp = srtd[0][0]\n",
    "                found = True\n",
    "                q*=10\n",
    "                                \n",
    "                break\n",
    "            q+=1\n",
    "        if not found:\n",
    "            if str(arr) == \"nan\":\n",
    "                tmp = \"н_trans а_trans н_trans\" #\"n a\" \n",
    "                q = 0\n",
    "            else:\n",
    "                if last.lower() in space|{\",\",\"—\",'('}:\n",
    "                    tmp = space_date(arr)\n",
    "                    q = -1.2\n",
    "                else:    \n",
    "                    tmp = full_date(arr)\n",
    "                    q = -1.1\n",
    "                if tmp==\"\":\n",
    "                    ar = arr.replace(\" г.\", '').replace(\" года\", '')\n",
    "                    tmp = dot_date(ar)\n",
    "                    q=-10\n",
    "                    if tmp==\"\":\n",
    "                        ####  CHECK 10\n",
    "                        if len(arr)>10 and arr.isnumeric():\n",
    "                            tmp = \" \".join([ch[x] for x in arr])\n",
    "                            q=-7\n",
    "                        else: \n",
    "                            if arr[0] == \"$\":\n",
    "                                arr = arr[1:] + \" $\"\n",
    "                            l = []\n",
    "                            \n",
    "                            #word = word.replace(\"(\",\"\").replace(\")\",\"\")\n",
    "                            \n",
    "                            spl = arr.split(\" \")\n",
    "                            if len(spl)>1:\n",
    "                                ar = ''\n",
    "                                for i in range(len(spl)):\n",
    "                                    ar += spl[i]\n",
    "                                    if i+1 < len(spl):\n",
    "                                        if not spl[i].isnumeric() or not spl[i+1].isnumeric():\n",
    "                                            ar += \" \"\n",
    "                                arr = ar\n",
    "                            \n",
    "                            for word in arr.split(\" \"):\n",
    "                                key = (None, None, word, None, None)\n",
    "                                if key in res_upd:\n",
    "                                    srtd = sorted(res_upd[key].items(), key=operator.itemgetter(1), reverse=True)\n",
    "                                    t = srtd[0][0]\n",
    "                                    q = -2\n",
    "                                    if len(srtd)>1:\n",
    "                                        p = space_date(word)\n",
    "                                        if p !=\"\" and last.lower() in space|{\",\",\"—\",'('}:\n",
    "                                            q = -24\n",
    "                                            t = p\n",
    "\n",
    "                                        p = full_date(arr)\n",
    "                                        if p !=\"\" and last.lower() in full:\n",
    "                                            q = -23\n",
    "                                            t = p\n",
    "                                    \n",
    "                                    l.append(t)\n",
    "                                else:\n",
    "                                    if word in m:\n",
    "                                        l.append(m[word])\n",
    "                                    elif word.replace(\".\",\"\") in m:\n",
    "                                        l.append(m[word.replace(\".\",\"\")])\n",
    "                                    elif is_ascii(word):\n",
    "                                        if word.isalpha():\n",
    "                                            t = trans(word)\n",
    "                                            l.append(t)\n",
    "                                            q = -3\n",
    "                                        else:\n",
    "                                            try:\n",
    "                                                l.append(num2words(word, lang='ru'))\n",
    "                                                q = -4\n",
    "                                            except:\n",
    "                                                try:\n",
    "                                                    l.append(num2words(word.translate(SUB).translate(SUP), lang='ru'))\n",
    "                                                    q = -4\n",
    "                                                except:\n",
    "                                                    if (word.count(\"-\")>0 and word.count(\".\")==0 \n",
    "                                                        and word.count(\"/\")==0 and word.count(\"(\")==0\n",
    "                                                        and word.count(\"B\")==0):\n",
    "\n",
    "                                                        l.append(dash_num(word.replace(\" \",\"-\")).replace(\"одна \",\"\"))\n",
    "                                                        q=-50\n",
    "                                                    else:\n",
    "                                                        l.append(word)\n",
    "                                                        q = -5\n",
    "\n",
    "                                    else:\n",
    "                                        try:\n",
    "                                            l.append(num2words(word, lang='ru'))\n",
    "                                            q = -4\n",
    "                                        except:\n",
    "                                            l.append(word)\n",
    "                                            q = -6\n",
    "                            tmp = \" \".join(l) \n",
    "                            single_set.add(((lost, last, arr, nex, nexx),i))\n",
    "\n",
    "    if \"_letter_latin\" in tmp:\n",
    "        t = tmp\n",
    "        tmp = tmp.replace(\"_letter_latin\", \"_latin\")\n",
    "        q+=1000\n",
    "        multi_new.add((t,tmp))\n",
    "    #???\n",
    "    if tmp[0] == \" \":\n",
    "        tmp = tmp[1:]\n",
    "    \n",
    "    if q == -5:\n",
    "        x = arr\n",
    "        t = url(arr)\n",
    "        if t!=\"\":\n",
    "            tmp = t\n",
    "            q = -13\n",
    "    \n",
    "    after.append(tmp)\n",
    "    reason.append(q)\n",
    "    \n",
    "dic = {\"id\": ides, \"after\": after, \"type\": reason}\n",
    "dr = pd.DataFrame(data=dic)\n",
    "dr.to_csv(\"baseline_ext_rus_my.csv\", sep=\",\", index=False, quoting=csv.QUOTE_ALL, columns=[\"id\",\"after\"])\n",
    "\n",
    "print(len(multi_new),len(multi_upd), len(single_set))\n",
    "dr.type.value_counts()"
   ]
  },
  {
   "cell_type": "code",
   "execution_count": 290,
   "metadata": {
    "collapsed": false
   },
   "outputs": [
    {
     "data": {
      "text/plain": [
       "'j.scijus.2013.08.006.David'"
      ]
     },
     "execution_count": 290,
     "metadata": {},
     "output_type": "execute_result"
    }
   ],
   "source": [
    "x"
   ]
  },
  {
   "cell_type": "code",
   "execution_count": 296,
   "metadata": {
    "collapsed": false
   },
   "outputs": [
    {
     "data": {
      "text/html": [
       "<div>\n",
       "<table border=\"1\" class=\"dataframe\">\n",
       "  <thead>\n",
       "    <tr style=\"text-align: right;\">\n",
       "      <th></th>\n",
       "      <th>id</th>\n",
       "      <th>after</th>\n",
       "      <th>new</th>\n",
       "    </tr>\n",
       "  </thead>\n",
       "  <tbody>\n",
       "    <tr>\n",
       "      <th>16422</th>\n",
       "      <td>1156_2</td>\n",
       "      <td>2016.norwegiancharts.com</td>\n",
       "      <td>две тысячи шестнадцать точка н_trans о_trans р...</td>\n",
       "    </tr>\n",
       "    <tr>\n",
       "      <th>36240</th>\n",
       "      <td>2554_4</td>\n",
       "      <td>www.academia.edu/9093152/</td>\n",
       "      <td>w w w точка а_trans к_trans а_trans д_trans е_...</td>\n",
       "    </tr>\n",
       "    <tr>\n",
       "      <th>41672</th>\n",
       "      <td>2935_20</td>\n",
       "      <td>j.scijus.2013.08.006.David</td>\n",
       "      <td>й_trans точка с_trans к_trans и_trans ю_trans ...</td>\n",
       "    </tr>\n",
       "    <tr>\n",
       "      <th>52788</th>\n",
       "      <td>3746_3</td>\n",
       "      <td>L точка e точка r точка a</td>\n",
       "      <td>л_trans точка  точка р_trans точка а_trans</td>\n",
       "    </tr>\n",
       "    <tr>\n",
       "      <th>61509</th>\n",
       "      <td>4370_17</td>\n",
       "      <td>11.sejums</td>\n",
       "      <td>одиннадцать точка с_trans е_trans ю_trans м_tr...</td>\n",
       "    </tr>\n",
       "    <tr>\n",
       "      <th>66973</th>\n",
       "      <td>4765_14</td>\n",
       "      <td>a точка h точка M точка S</td>\n",
       "      <td>а_trans точка х_trans точка м_trans точка с_trans</td>\n",
       "    </tr>\n",
       "    <tr>\n",
       "      <th>70552</th>\n",
       "      <td>5018_24</td>\n",
       "      <td>точка д_trans о_trans к_trans</td>\n",
       "      <td>точка д_trans о_trans к_trans</td>\n",
       "    </tr>\n",
       "    <tr>\n",
       "      <th>72030</th>\n",
       "      <td>5128_2</td>\n",
       "      <td>2016.pythonOCC</td>\n",
       "      <td>две тысячи шестнадцать точка п_trans и_trans т...</td>\n",
       "    </tr>\n",
       "    <tr>\n",
       "      <th>75218</th>\n",
       "      <td>5354_5</td>\n",
       "      <td>1086/383486</td>\n",
       "      <td>одна тысяча восемьдесят шесть триста восемьдес...</td>\n",
       "    </tr>\n",
       "    <tr>\n",
       "      <th>75293</th>\n",
       "      <td>5361_5</td>\n",
       "      <td>r точка t точка a</td>\n",
       "      <td>р_trans точка т_trans точка а_trans</td>\n",
       "    </tr>\n",
       "    <tr>\n",
       "      <th>98597</th>\n",
       "      <td>6965_15</td>\n",
       "      <td>e точка G точка p</td>\n",
       "      <td>точка г_trans точка п_trans</td>\n",
       "    </tr>\n",
       "    <tr>\n",
       "      <th>98743</th>\n",
       "      <td>6975_13</td>\n",
       "      <td>S точка W точка e точка a точка t</td>\n",
       "      <td>с_trans точка в_trans точка  точка а_trans точ...</td>\n",
       "    </tr>\n",
       "    <tr>\n",
       "      <th>114756</th>\n",
       "      <td>8093_4</td>\n",
       "      <td>a точка u точка S точка r</td>\n",
       "      <td>а_trans точка у_trans точка с_trans точка р_trans</td>\n",
       "    </tr>\n",
       "    <tr>\n",
       "      <th>133873</th>\n",
       "      <td>9446_2</td>\n",
       "      <td>2016.Sherdog.com</td>\n",
       "      <td>две тысячи шестнадцать точка ш_trans е_trans р...</td>\n",
       "    </tr>\n",
       "    <tr>\n",
       "      <th>156107</th>\n",
       "      <td>11015_4</td>\n",
       "      <td>769/493</td>\n",
       "      <td>семьсот шестьдесят девять четыреста девяносто ...</td>\n",
       "    </tr>\n",
       "    <tr>\n",
       "      <th>159190</th>\n",
       "      <td>11230_4</td>\n",
       "      <td>400/100</td>\n",
       "      <td>четыреста сотых</td>\n",
       "    </tr>\n",
       "    <tr>\n",
       "      <th>168937</th>\n",
       "      <td>11919_8</td>\n",
       "      <td>точка э_trans н_trans д_trans</td>\n",
       "      <td>точка э_trans н_trans д_trans</td>\n",
       "    </tr>\n",
       "    <tr>\n",
       "      <th>198489</th>\n",
       "      <td>13985_16</td>\n",
       "      <td>одиннадцать тысяч сто долл.</td>\n",
       "      <td>одиннадцать тысяч сто долларов</td>\n",
       "    </tr>\n",
       "    <tr>\n",
       "      <th>198760</th>\n",
       "      <td>14006_8</td>\n",
       "      <td>1086/308703</td>\n",
       "      <td>одна тысяча восемьдесят шесть третьихста восем...</td>\n",
       "    </tr>\n",
       "    <tr>\n",
       "      <th>212166</th>\n",
       "      <td>14976_5</td>\n",
       "      <td>2.project</td>\n",
       "      <td>два точка п_trans р_trans о_trans д_trans ж_tr...</td>\n",
       "    </tr>\n",
       "    <tr>\n",
       "      <th>233083</th>\n",
       "      <td>16472_7</td>\n",
       "      <td>две тысячи четыреста об/мин</td>\n",
       "      <td>две тысячи четыреста оборотов в минуту</td>\n",
       "    </tr>\n",
       "    <tr>\n",
       "      <th>233095</th>\n",
       "      <td>16472_19</td>\n",
       "      <td>две тысячи двести об/мин.</td>\n",
       "      <td>две тысячи двести оборотов в минуту</td>\n",
       "    </tr>\n",
       "    <tr>\n",
       "      <th>237948</th>\n",
       "      <td>16819_12</td>\n",
       "      <td>34.de</td>\n",
       "      <td>тридцать четыре точка д_trans е_trans</td>\n",
       "    </tr>\n",
       "    <tr>\n",
       "      <th>247357</th>\n",
       "      <td>17491_3</td>\n",
       "      <td>http://tass.ru/kosmos/4248480</td>\n",
       "      <td>h t t p т_trans а_trans с_trans с_trans точка ...</td>\n",
       "    </tr>\n",
       "    <tr>\n",
       "      <th>255622</th>\n",
       "      <td>18094_11</td>\n",
       "      <td>1086/180751</td>\n",
       "      <td>одна тысяча восемьдесят шесть сто восемьдесят ...</td>\n",
       "    </tr>\n",
       "    <tr>\n",
       "      <th>270417</th>\n",
       "      <td>19164_17</td>\n",
       "      <td>02.html</td>\n",
       "      <td>два точка х_trans т_trans м_trans л_trans</td>\n",
       "    </tr>\n",
       "    <tr>\n",
       "      <th>278292</th>\n",
       "      <td>19711_13</td>\n",
       "      <td>ноль запятая сто восемьдесят четыре нм</td>\n",
       "      <td>ноль запятая сто восемьдесят четыре нанометра</td>\n",
       "    </tr>\n",
       "    <tr>\n",
       "      <th>278302</th>\n",
       "      <td>19711_23</td>\n",
       "      <td>ноль запятая двадцать четыре нм</td>\n",
       "      <td>ноль запятая двадцать четыре нанометра</td>\n",
       "    </tr>\n",
       "    <tr>\n",
       "      <th>280022</th>\n",
       "      <td>19830_8</td>\n",
       "      <td>305/52</td>\n",
       "      <td>триста пять пятьдесят вторых</td>\n",
       "    </tr>\n",
       "    <tr>\n",
       "      <th>281136</th>\n",
       "      <td>19914_5</td>\n",
       "      <td>20/2016</td>\n",
       "      <td>двадцать две тысячи шестнадцатых</td>\n",
       "    </tr>\n",
       "    <tr>\n",
       "      <th>...</th>\n",
       "      <td>...</td>\n",
       "      <td>...</td>\n",
       "      <td>...</td>\n",
       "    </tr>\n",
       "    <tr>\n",
       "      <th>759537</th>\n",
       "      <td>53661_11</td>\n",
       "      <td>точка п_trans а_trans б_trans</td>\n",
       "      <td>точка п_trans а_trans б_trans</td>\n",
       "    </tr>\n",
       "    <tr>\n",
       "      <th>761845</th>\n",
       "      <td>53817_7</td>\n",
       "      <td>3.1.3.9</td>\n",
       "      <td>три точка один точка три точка девять</td>\n",
       "    </tr>\n",
       "    <tr>\n",
       "      <th>764654</th>\n",
       "      <td>54020_4</td>\n",
       "      <td>y точка q</td>\n",
       "      <td>и_trans точка q_trans</td>\n",
       "    </tr>\n",
       "    <tr>\n",
       "      <th>764660</th>\n",
       "      <td>54020_10</td>\n",
       "      <td>y точка q</td>\n",
       "      <td>и_trans точка q_trans</td>\n",
       "    </tr>\n",
       "    <tr>\n",
       "      <th>778835</th>\n",
       "      <td>55052_22</td>\n",
       "      <td>10.1.137</td>\n",
       "      <td>десять точка один точка сто тридцать семь</td>\n",
       "    </tr>\n",
       "    <tr>\n",
       "      <th>784801</th>\n",
       "      <td>55460_10</td>\n",
       "      <td>точка p d f</td>\n",
       "      <td>точка p d f</td>\n",
       "    </tr>\n",
       "    <tr>\n",
       "      <th>787603</th>\n",
       "      <td>55657_8</td>\n",
       "      <td>1086/338901</td>\n",
       "      <td>одна тысяча восемьдесят шесть триста тридцать ...</td>\n",
       "    </tr>\n",
       "    <tr>\n",
       "      <th>794022</th>\n",
       "      <td>56101_4</td>\n",
       "      <td>287/42</td>\n",
       "      <td>двести восемьдесят семь сорок вторых</td>\n",
       "    </tr>\n",
       "    <tr>\n",
       "      <th>808555</th>\n",
       "      <td>57112_9</td>\n",
       "      <td>101/435</td>\n",
       "      <td>сто один четыреста тридцать пятых</td>\n",
       "    </tr>\n",
       "    <tr>\n",
       "      <th>819350</th>\n",
       "      <td>57875_18</td>\n",
       "      <td>j.virusres.2003.12.007</td>\n",
       "      <td>й_trans точка в_trans и_trans р_trans у_trans ...</td>\n",
       "    </tr>\n",
       "    <tr>\n",
       "      <th>819404</th>\n",
       "      <td>57877_18</td>\n",
       "      <td>j.eurpsy.2006.09.006</td>\n",
       "      <td>й_trans точка э_trans у_trans р_trans п_trans ...</td>\n",
       "    </tr>\n",
       "    <tr>\n",
       "      <th>821148</th>\n",
       "      <td>58000_2</td>\n",
       "      <td>2015.www.Igromania.ru</td>\n",
       "      <td>две тысячи пятнадцать точка w w w точка и_tran...</td>\n",
       "    </tr>\n",
       "    <tr>\n",
       "      <th>828183</th>\n",
       "      <td>58488_18</td>\n",
       "      <td>xxxii.cxxvii.335.Previte</td>\n",
       "      <td>к_trans с_trans к_trans с_trans к_trans с_tran...</td>\n",
       "    </tr>\n",
       "    <tr>\n",
       "      <th>828309</th>\n",
       "      <td>58500_2</td>\n",
       "      <td>2017.undeadwalking.com</td>\n",
       "      <td>две тысячи семнадцать точка а_trans н_trans д_...</td>\n",
       "    </tr>\n",
       "    <tr>\n",
       "      <th>840548</th>\n",
       "      <td>59367_9</td>\n",
       "      <td>2.5.8.0</td>\n",
       "      <td>два точка пять точка восемь точка ноль</td>\n",
       "    </tr>\n",
       "    <tr>\n",
       "      <th>846219</th>\n",
       "      <td>59755_0</td>\n",
       "      <td>1/92</td>\n",
       "      <td>один косая черта девяносто два</td>\n",
       "    </tr>\n",
       "    <tr>\n",
       "      <th>857147</th>\n",
       "      <td>60534_7</td>\n",
       "      <td>2012.Haynews.am</td>\n",
       "      <td>две тысячи двенадцать точка х_trans э_trans й_...</td>\n",
       "    </tr>\n",
       "    <tr>\n",
       "      <th>859840</th>\n",
       "      <td>60720_12</td>\n",
       "      <td>10.1.1.26</td>\n",
       "      <td>десять точка один точка один точка двадцать шесть</td>\n",
       "    </tr>\n",
       "    <tr>\n",
       "      <th>869430</th>\n",
       "      <td>61398_20</td>\n",
       "      <td>1086/520922</td>\n",
       "      <td>одна тысяча восемьдесят шесть пятьсот вторыхдц...</td>\n",
       "    </tr>\n",
       "    <tr>\n",
       "      <th>877815</th>\n",
       "      <td>61988_2</td>\n",
       "      <td>2012.Cracked.com</td>\n",
       "      <td>две тысячи двенадцать точка к_trans р_trans а_...</td>\n",
       "    </tr>\n",
       "    <tr>\n",
       "      <th>888581</th>\n",
       "      <td>62739_2</td>\n",
       "      <td>2017.Korrespondent.net</td>\n",
       "      <td>две тысячи семнадцать точка к_trans о_trans р_...</td>\n",
       "    </tr>\n",
       "    <tr>\n",
       "      <th>891163</th>\n",
       "      <td>62924_0</td>\n",
       "      <td>1050/1051</td>\n",
       "      <td>одна тысяча пятьдесят косая черта одна тысяча ...</td>\n",
       "    </tr>\n",
       "    <tr>\n",
       "      <th>914238</th>\n",
       "      <td>64568_5</td>\n",
       "      <td>19/22</td>\n",
       "      <td>девятнадцать вторыхдцать вторых</td>\n",
       "    </tr>\n",
       "    <tr>\n",
       "      <th>934401</th>\n",
       "      <td>66026_2</td>\n",
       "      <td>2014.graphos</td>\n",
       "      <td>две тысячи четырнадцать точка г_trans р_trans ...</td>\n",
       "    </tr>\n",
       "    <tr>\n",
       "      <th>948953</th>\n",
       "      <td>67047_9</td>\n",
       "      <td>2/1374</td>\n",
       "      <td>два одна тысяча триста семьдесят четвертых</td>\n",
       "    </tr>\n",
       "    <tr>\n",
       "      <th>966871</th>\n",
       "      <td>68349_17</td>\n",
       "      <td>85/111</td>\n",
       "      <td>восемьдесят пять сто одиннадцатых</td>\n",
       "    </tr>\n",
       "    <tr>\n",
       "      <th>971722</th>\n",
       "      <td>68690_2</td>\n",
       "      <td>2017/16</td>\n",
       "      <td>две тысячи семнадцать шестнадцатых</td>\n",
       "    </tr>\n",
       "    <tr>\n",
       "      <th>978789</th>\n",
       "      <td>69197_12</td>\n",
       "      <td>v точка d точка N точка h</td>\n",
       "      <td>в_trans точка д_trans точка н_trans точка х_trans</td>\n",
       "    </tr>\n",
       "    <tr>\n",
       "      <th>983120</th>\n",
       "      <td>69503_2</td>\n",
       "      <td>2017.Zaxid.net</td>\n",
       "      <td>две тысячи семнадцать точка з_trans а_trans к_...</td>\n",
       "    </tr>\n",
       "    <tr>\n",
       "      <th>986689</th>\n",
       "      <td>69757_7</td>\n",
       "      <td>2007.iXBT.com</td>\n",
       "      <td>две тысячи семь точка и_trans к_trans с_trans ...</td>\n",
       "    </tr>\n",
       "  </tbody>\n",
       "</table>\n",
       "<p>115 rows × 3 columns</p>\n",
       "</div>"
      ],
      "text/plain": [
       "              id                                   after  \\\n",
       "16422     1156_2                2016.norwegiancharts.com   \n",
       "36240     2554_4               www.academia.edu/9093152/   \n",
       "41672    2935_20              j.scijus.2013.08.006.David   \n",
       "52788     3746_3               L точка e точка r точка a   \n",
       "61509    4370_17                               11.sejums   \n",
       "66973    4765_14               a точка h точка M точка S   \n",
       "70552    5018_24           точка д_trans о_trans к_trans   \n",
       "72030     5128_2                          2016.pythonOCC   \n",
       "75218     5354_5                             1086/383486   \n",
       "75293     5361_5                       r точка t точка a   \n",
       "98597    6965_15                       e точка G точка p   \n",
       "98743    6975_13       S точка W точка e точка a точка t   \n",
       "114756    8093_4               a точка u точка S точка r   \n",
       "133873    9446_2                        2016.Sherdog.com   \n",
       "156107   11015_4                                 769/493   \n",
       "159190   11230_4                                 400/100   \n",
       "168937   11919_8           точка э_trans н_trans д_trans   \n",
       "198489  13985_16             одиннадцать тысяч сто долл.   \n",
       "198760   14006_8                             1086/308703   \n",
       "212166   14976_5                               2.project   \n",
       "233083   16472_7             две тысячи четыреста об/мин   \n",
       "233095  16472_19               две тысячи двести об/мин.   \n",
       "237948  16819_12                                   34.de   \n",
       "247357   17491_3           http://tass.ru/kosmos/4248480   \n",
       "255622  18094_11                             1086/180751   \n",
       "270417  19164_17                                 02.html   \n",
       "278292  19711_13  ноль запятая сто восемьдесят четыре нм   \n",
       "278302  19711_23         ноль запятая двадцать четыре нм   \n",
       "280022   19830_8                                  305/52   \n",
       "281136   19914_5                                 20/2016   \n",
       "...          ...                                     ...   \n",
       "759537  53661_11           точка п_trans а_trans б_trans   \n",
       "761845   53817_7                                 3.1.3.9   \n",
       "764654   54020_4                               y точка q   \n",
       "764660  54020_10                               y точка q   \n",
       "778835  55052_22                                10.1.137   \n",
       "784801  55460_10                             точка p d f   \n",
       "787603   55657_8                             1086/338901   \n",
       "794022   56101_4                                  287/42   \n",
       "808555   57112_9                                 101/435   \n",
       "819350  57875_18                  j.virusres.2003.12.007   \n",
       "819404  57877_18                    j.eurpsy.2006.09.006   \n",
       "821148   58000_2                   2015.www.Igromania.ru   \n",
       "828183  58488_18                xxxii.cxxvii.335.Previte   \n",
       "828309   58500_2                  2017.undeadwalking.com   \n",
       "840548   59367_9                                 2.5.8.0   \n",
       "846219   59755_0                                    1/92   \n",
       "857147   60534_7                         2012.Haynews.am   \n",
       "859840  60720_12                               10.1.1.26   \n",
       "869430  61398_20                             1086/520922   \n",
       "877815   61988_2                        2012.Cracked.com   \n",
       "888581   62739_2                  2017.Korrespondent.net   \n",
       "891163   62924_0                               1050/1051   \n",
       "914238   64568_5                                   19/22   \n",
       "934401   66026_2                            2014.graphos   \n",
       "948953   67047_9                                  2/1374   \n",
       "966871  68349_17                                  85/111   \n",
       "971722   68690_2                                 2017/16   \n",
       "978789  69197_12               v точка d точка N точка h   \n",
       "983120   69503_2                          2017.Zaxid.net   \n",
       "986689   69757_7                           2007.iXBT.com   \n",
       "\n",
       "                                                      new  \n",
       "16422   две тысячи шестнадцать точка н_trans о_trans р...  \n",
       "36240   w w w точка а_trans к_trans а_trans д_trans е_...  \n",
       "41672   й_trans точка с_trans к_trans и_trans ю_trans ...  \n",
       "52788          л_trans точка  точка р_trans точка а_trans  \n",
       "61509   одиннадцать точка с_trans е_trans ю_trans м_tr...  \n",
       "66973   а_trans точка х_trans точка м_trans точка с_trans  \n",
       "70552                       точка д_trans о_trans к_trans  \n",
       "72030   две тысячи шестнадцать точка п_trans и_trans т...  \n",
       "75218   одна тысяча восемьдесят шесть триста восемьдес...  \n",
       "75293                 р_trans точка т_trans точка а_trans  \n",
       "98597                         точка г_trans точка п_trans  \n",
       "98743   с_trans точка в_trans точка  точка а_trans точ...  \n",
       "114756  а_trans точка у_trans точка с_trans точка р_trans  \n",
       "133873  две тысячи шестнадцать точка ш_trans е_trans р...  \n",
       "156107  семьсот шестьдесят девять четыреста девяносто ...  \n",
       "159190                                    четыреста сотых  \n",
       "168937                      точка э_trans н_trans д_trans  \n",
       "198489                     одиннадцать тысяч сто долларов  \n",
       "198760  одна тысяча восемьдесят шесть третьихста восем...  \n",
       "212166  два точка п_trans р_trans о_trans д_trans ж_tr...  \n",
       "233083             две тысячи четыреста оборотов в минуту  \n",
       "233095                две тысячи двести оборотов в минуту  \n",
       "237948              тридцать четыре точка д_trans е_trans  \n",
       "247357  h t t p т_trans а_trans с_trans с_trans точка ...  \n",
       "255622  одна тысяча восемьдесят шесть сто восемьдесят ...  \n",
       "270417          два точка х_trans т_trans м_trans л_trans  \n",
       "278292      ноль запятая сто восемьдесят четыре нанометра  \n",
       "278302             ноль запятая двадцать четыре нанометра  \n",
       "280022                       триста пять пятьдесят вторых  \n",
       "281136                   двадцать две тысячи шестнадцатых  \n",
       "...                                                   ...  \n",
       "759537                      точка п_trans а_trans б_trans  \n",
       "761845              три точка один точка три точка девять  \n",
       "764654                              и_trans точка q_trans  \n",
       "764660                              и_trans точка q_trans  \n",
       "778835          десять точка один точка сто тридцать семь  \n",
       "784801                                        точка p d f  \n",
       "787603  одна тысяча восемьдесят шесть триста тридцать ...  \n",
       "794022               двести восемьдесят семь сорок вторых  \n",
       "808555                  сто один четыреста тридцать пятых  \n",
       "819350  й_trans точка в_trans и_trans р_trans у_trans ...  \n",
       "819404  й_trans точка э_trans у_trans р_trans п_trans ...  \n",
       "821148  две тысячи пятнадцать точка w w w точка и_tran...  \n",
       "828183  к_trans с_trans к_trans с_trans к_trans с_tran...  \n",
       "828309  две тысячи семнадцать точка а_trans н_trans д_...  \n",
       "840548             два точка пять точка восемь точка ноль  \n",
       "846219                     один косая черта девяносто два  \n",
       "857147  две тысячи двенадцать точка х_trans э_trans й_...  \n",
       "859840  десять точка один точка один точка двадцать шесть  \n",
       "869430  одна тысяча восемьдесят шесть пятьсот вторыхдц...  \n",
       "877815  две тысячи двенадцать точка к_trans р_trans а_...  \n",
       "888581  две тысячи семнадцать точка к_trans о_trans р_...  \n",
       "891163  одна тысяча пятьдесят косая черта одна тысяча ...  \n",
       "914238                    девятнадцать вторыхдцать вторых  \n",
       "934401  две тысячи четырнадцать точка г_trans р_trans ...  \n",
       "948953         два одна тысяча триста семьдесят четвертых  \n",
       "966871                  восемьдесят пять сто одиннадцатых  \n",
       "971722                 две тысячи семнадцать шестнадцатых  \n",
       "978789  в_trans точка д_trans точка н_trans точка х_trans  \n",
       "983120  две тысячи семнадцать точка з_trans а_trans к_...  \n",
       "986689  две тысячи семь точка и_trans к_trans с_trans ...  \n",
       "\n",
       "[115 rows x 3 columns]"
      ]
     },
     "execution_count": 296,
     "metadata": {},
     "output_type": "execute_result"
    }
   ],
   "source": [
    "dc = pd.read_csv(\"baseline_ext_rus_my_9926.csv\")\n",
    "dc.head()\n",
    "\n",
    "dc[\"new\"] = dr[\"after\"]\n",
    "dc[dc[\"after\"] != dc[\"new\"]]\n"
   ]
  },
  {
   "cell_type": "code",
   "execution_count": null,
   "metadata": {
    "collapsed": false
   },
   "outputs": [],
   "source": [
    "a = 0\n",
    "for x in multi_upd:\n",
    "    if x[0][1]==\"(\":\n",
    "        t =space_date(x[0][2]) \n",
    "        if t!=\"\" and t!=x[1][0]:\n",
    "            print(x[0], t) #, )\n",
    "            a+=1\n",
    "a"
   ]
  },
  {
   "cell_type": "code",
   "execution_count": 3,
   "metadata": {
    "collapsed": false
   },
   "outputs": [
    {
     "data": {
      "text/plain": [
       "['IH1', 'P', 'AE1', 'D']"
      ]
     },
     "execution_count": 3,
     "metadata": {},
     "output_type": "execute_result"
    }
   ],
   "source": [
    "import nltk\n",
    "from functools import lru_cache\n",
    "from itertools import product as iterprod\n",
    "\n",
    "try:\n",
    "    arpabet = nltk.corpus.cmudict.dict()\n",
    "except LookupError:\n",
    "    nltk.download('cmudict')\n",
    "    arpabet = nltk.corpus.cmudict.dict()\n",
    "\n",
    "@lru_cache()\n",
    "def wordbreak(s):\n",
    "    s = s.lower()\n",
    "    if s in arpabet:\n",
    "        return arpabet[s]\n",
    "    middle = len(s)/2\n",
    "    partition = sorted(list(range(len(s))), key=lambda x: (x-middle)**2-x)\n",
    "    for i in partition:\n",
    "        pre, suf = (s[:i], s[i:])\n",
    "        if pre in arpabet and wordbreak(suf) is not None:\n",
    "            return [x+y for x,y in iterprod(arpabet[pre], wordbreak(suf))]\n",
    "    return None\n",
    "\n",
    "def wordbreak2(s):\n",
    "    s = s.lower()\n",
    "    if s in arpabet:\n",
    "        return arpabet[s][0]\n",
    "    for i in range(len(s)-1,0,-1):\n",
    "        if s[:i] in arpabet:\n",
    "            #print(i, s[:i],s[i:],arpabet[s[:i]][0],wordbreak2(s[i:])[0])\n",
    "            return arpabet[s[:i]][0] + wordbreak2(s[i:])\n",
    "\n",
    "wordbreak2(\"iPad\")"
   ]
  },
  {
   "cell_type": "code",
   "execution_count": 292,
   "metadata": {
    "collapsed": false
   },
   "outputs": [
    {
     "data": {
      "text/plain": [
       "'ф_trans а_trans к_trans'"
      ]
     },
     "execution_count": 292,
     "metadata": {},
     "output_type": "execute_result"
    }
   ],
   "source": [
    "def trans(x):\n",
    "    if len(x)>1:\n",
    "        if x in s:\n",
    "            return s[x]\n",
    "        \n",
    "        key = (None, None, x, None, None)\n",
    "        if key in res_upd:\n",
    "            srtd = sorted(res_upd[key].items(), key=operator.itemgetter(1), reverse=True)\n",
    "            t = srtd[0][0]\n",
    "            return t\n",
    "    \n",
    "    word = x.lower()\n",
    "    t = (\"_trans \".join(translit(word, 'ru')) + \"_trans\")\n",
    "    t = t.replace(\"w_trans\",\"в_trans\")\n",
    "    t = t.replace(\"ы_trans\",\"и_trans\")\n",
    "    t = t.replace(\"щ_trans\",\"ш_trans\")\n",
    "    t = t.replace(\"ц_trans\",\"к_trans\")\n",
    "    t = t.replace(\"а_trans л_trans л_trans\",\"о_trans л_trans\")\n",
    "    t = t.replace(\"т_trans и_trans о_trans\",\"ш_trans е_trans\")\n",
    "    t = t.replace(\"и_trans е_trans в_trans\",\"ь_trans ю_trans\")\n",
    "    t = t.replace(\"т_trans у_trans р_trans\",\"ч_trans е_trans р_trans\")\n",
    "    t = t.replace(\"е_trans в_trans\",\"ь_trans ю_trans\")\n",
    "    t = t.replace(\"а_trans и_trans\",\"э_trans й_trans\")\n",
    "    t = t.replace(\"г_trans у_trans\",\"г_trans а_trans\")\n",
    "    t = t.replace(\"о_trans и_trans\",\"о_trans й_trans\")\n",
    "    t = t.replace(\"т_trans х_trans\",\"т_trans\")\n",
    "    t = t.replace(\"о_trans о_trans\",\"у_trans\")\n",
    "    t = t.replace(\"е_trans е_trans\",\"и_trans\")\n",
    "    t = t.replace(\"п_trans х_trans\",\"ф_trans\")\n",
    "    t = t.replace(\"с_trans ч_trans\",\"ш_trans\")\n",
    "    t = t.replace(\"а_trans у_trans\",\"о_trans\")\n",
    "    t = t.replace(\"о_trans а_trans\",\"о_trans\")\n",
    "    t = t.replace(\"в_trans х_trans\",\"у_trans\")\n",
    "    t = t.replace(\"к_trans к_trans\",\"к_trans\")\n",
    "    t = t.replace(\"х_trans н_trans\",\"н_trans\")\n",
    "    t = t.replace(\"х_trans л_trans\",\"л_trans\")\n",
    "    t = t.replace(\"х_trans р_trans\",\"р_trans\")\n",
    "    t = t.replace(\"х_trans к_trans\",\"к_trans\")\n",
    "    t = t.replace(\"x_trans\",\"к_trans с_trans\")\n",
    "    t = t.replace(\"х_trans у_trans\",\"х_trans а_trans\")\n",
    "    t = t.replace(\"е_trans и_trans\",\"е_trans й_trans\")\n",
    "    t = t.replace(\"с_trans у_trans\",\"с_trans а_trans\")\n",
    "    t = t.replace(\"п_trans у_trans\",\"п_trans а_trans\")\n",
    "    t = t.replace(\"г_trans и_trans я_trans\",\"д_trans ж_trans и_trans я_trans\")\n",
    "    t = t.replace(\"у_trans н_trans т_trans\",\"а_trans н_trans т_trans\")\n",
    "    t = t.replace(\"у_trans н_trans д_trans\",\"а_trans н_trans д_trans\")\n",
    "    t = t.replace(\"у_trans н_trans к_trans\",\"а_trans н_trans к_trans\")\n",
    "    t = t.replace(\"у_trans б_trans\",\"а_trans б_trans\")\n",
    "    t = t.replace(\"с_trans в_trans\",\"с_trans у_trans\")\n",
    "    #t = t.replace(\"к_trans у_trans\",\"с_trans у_trans\")\n",
    "\n",
    "    if t.endswith(\"е_trans\"):\n",
    "        t = t[:-8]\n",
    "\n",
    "    if t.endswith(\"г_trans у_trans\"):\n",
    "        t = t[:-8]\n",
    "\n",
    "    if t.startswith(\"е_trans\"):\n",
    "        t = \"э\" + t[1:]\n",
    "\n",
    "    if word[0] == \"w\" and len(word)>1:\n",
    "        t = \"у\" + t[1:]\n",
    "\n",
    "    if word[0] == \"j\" and len(word)>1:\n",
    "        tt = \"д_trans ж_trans\"\n",
    "        if word[1]==\"u\":\n",
    "            tt+=\" y_trans\"\n",
    "        if word[1]==\"a\":\n",
    "            tt+=\" е_trans\"\n",
    "        t = tt + t[7:]\n",
    "\n",
    "    #if word.startswith(\"wi\"):\n",
    "    #    t = \"в\" + t[1:]\n",
    "\n",
    "    if word.endswith(\"ts\") and t.endswith(\"к_trans\"):\n",
    "        t = t[:-8] + \" т_trans с_trans\"\n",
    "\n",
    "    if word.endswith(\"ux\"):\n",
    "        t = t[:-16]\n",
    "\n",
    "    if word.endswith(\"ge\") and t.endswith(\"г_trans\"):\n",
    "        t = t[:-8] + \" д_trans ж_trans\"\n",
    "\n",
    "    if t.startswith(\"а_trans и_trans р_trans\"):\n",
    "        t = \"а_trans й_trans\" + t[15:]\n",
    "\n",
    "    if t.endswith(\"и_trans а_trans\"):\n",
    "        t = t[:-8] + \" я_trans\"\n",
    "\n",
    "    if t.endswith(\"е_trans с_trans\") and not word.endswith(\"ses\") and not word.endswith(\"hes\"):\n",
    "        t = t[:-15] + \"с_trans\"\n",
    "\n",
    "    if t.endswith(\"д_trans г_trans\"):\n",
    "        t = t[:-8] + \" ж_trans\"\n",
    "\n",
    "    if len(word)>2 and word[0]=='c' and word[1]=='h' and word[2] not in gl:\n",
    "        t = \"к\" + t[1:]\n",
    "\n",
    "    if \"ce\" in word:\n",
    "        t = t.replace(\"к_trans\",\"с_trans\") \n",
    "\n",
    "    t = t.replace(\"у_trans н_trans д_trans\",\"а_trans н_trans д_trans\")\n",
    "    \n",
    "    return t\n",
    "\n",
    "trans(\"fuck\")"
   ]
  },
  {
   "cell_type": "code",
   "execution_count": 294,
   "metadata": {
    "collapsed": false
   },
   "outputs": [
    {
     "data": {
      "text/plain": [
       "'h t t p две тысячи семнадцать точка ф_trans а_trans к_trans точка к_trans о_trans м_trans косая черта т_trans точка с_trans т_trans косая черта в_trans косая черта'"
      ]
     },
     "execution_count": 294,
     "metadata": {},
     "output_type": "execute_result"
    }
   ],
   "source": [
    "def url(x):\n",
    "    s = x.split(\"/\")\n",
    "    if len(s) == 2 and s[0].isnumeric() and s[1].isnumeric():\n",
    "        res = num2words(s[0], lang='ru') + \" \" + num2words(s[1], lang='ru')\n",
    "        if last:\n",
    "            if res.endswith(\"один\"):\n",
    "                res = res.replace(\"один\",\"первых\")\n",
    "            elif res.endswith(\"два\"):\n",
    "                res = res.replace(\"два\",\"вторых\")\n",
    "            elif res.endswith(\"три\"):\n",
    "                res = res.replace(\"три\",\"третьих\")\n",
    "            elif res.endswith(\"четыре\"):\n",
    "                res = res.replace(\"четыре\",\"четвертых\")\n",
    "            elif res.endswith(\"семь\"):\n",
    "                res = res.replace(\"семь\",\"седьмых\")\n",
    "            elif res.endswith(\"восемь\"):\n",
    "                res = res.replace(\"восемь\",\"восьмых\")\n",
    "            elif res.endswith(\"сто\"):\n",
    "                res = res.replace(\"сто\",\"сотых\")\n",
    "            else:\n",
    "                res = res[:-1] + \"ых\"\n",
    "            return res\n",
    "\n",
    "    res = \"\"\n",
    "    if x.startswith(\"http://www.\"):\n",
    "        res = \"h t t p w w w точка \"\n",
    "        x = x.replace(\"http://www.\", \"\")\n",
    "    elif x.startswith(\"http://\"):\n",
    "        res = \"h t t p \"\n",
    "        x = x.replace(\"http://\", \"\")\n",
    "    \n",
    "    ss = x.split(\"/\")\n",
    "    #print(ss)\n",
    "    i = 0\n",
    "    for z in ss:\n",
    "        if z == \"\":\n",
    "            continue\n",
    "        s = z.split(\".\")\n",
    "        #print(s)\n",
    "        for y in s:\n",
    "            if y ==\"\":\n",
    "                continue\n",
    "            if y.isnumeric():\n",
    "                res += num2words(y, lang='ru') + \" точка \"\n",
    "            elif not y.isalpha() or not is_ascii(y):\n",
    "                #print(y)\n",
    "                return \"\"\n",
    "            else:\n",
    "                res += trans(y) + \" точка \" \n",
    "        res = res[:-7] + \" косая черта \"\n",
    "    if x[-1] == \"/\":\n",
    "        res += \" косая черта\"\n",
    "    res = res[:-13]\n",
    "    return res\n",
    "    \n",
    "url(\"http://2017.fuck.com/te.st/w/\")\n",
    "#url(\"100/101\")\n",
    "    "
   ]
  },
  {
   "cell_type": "code",
   "execution_count": 223,
   "metadata": {
    "collapsed": false
   },
   "outputs": [
    {
     "data": {
      "text/plain": [
       "'19779 га'"
      ]
     },
     "execution_count": 223,
     "metadata": {},
     "output_type": "execute_result"
    }
   ],
   "source": [
    "spl = \"19 779 га\".split(\" \")\n",
    "if len(spl)>1:\n",
    "    ar = ''\n",
    "    for i in range(len(spl)):\n",
    "        ar += spl[i]\n",
    "        if i+1 < len(spl):\n",
    "            if not spl[i].isnumeric() or not spl[i+1].isnumeric():\n",
    "                ar += \" \"\n",
    "    arr = ar\n",
    "arr"
   ]
  },
  {
   "cell_type": "code",
   "execution_count": 271,
   "metadata": {
    "collapsed": false
   },
   "outputs": [
    {
     "name": "stdout",
     "output_type": "stream",
     "text": [
      "281\n",
      "(PS2\n",
      "Its-behind-you.com\n",
      "29.tv21\n",
      "http://www.sportskeeda.com/football/tony-pulis-one-of-the-best-in-the-epl\n",
      "II)\n",
      "(NS\n",
      "http://www.geonames.org/347585The\n",
      "http://udarenie.myreutov.ru/dictionaries/geo_mo_slovar_2007\n",
      "(II)\n",
      "(II\n",
      "(NaN)\n",
      "PS3\n",
      "Game-Interviews.com\n",
      "H1N1\n",
      "1:19.38\n",
      "docs.cntd.ru/document/1200115397Lighting\n",
      "SH2\n",
      "SH2\n",
      "SH2\n",
      "II)\n",
      "SF9010\n",
      "51,89%\n",
      "II)\n",
      "PS4\n",
      "KH2\n",
      "(II)\n",
      "(PS3\n",
      "https://www.ibccrim.org.br/noticia/13346-Revogada-a-contravencao-penal-de-mendicancia)\n",
      "M. D. W.\n",
      "(II)\n",
      "SP286\n",
      "5.hidemyass.com/ip-1/encoded/Oi8vdHJ1Y2tzLmRtaXIucnUvd2lraS90b25hci8%253D\n",
      "II)\n",
      "HF)\n",
      "IP7\n",
      "zee-tv.ru\n",
      "fromhttp://www.sciencedaily.com/releases/2006/11/061130081347.htmShannon\n",
      "game-exe.ru\n",
      "reporter63.ru\n",
      "(SB0\n",
      "II)\n",
      "CS161\n",
      "KP40\n",
      "PS3\n",
      "451,611,866,957\n",
      "(II)\n",
      "http://www.moskva.fm/artist/thomas_anders)\n",
      "cyberleninka.ru/article/n/detelnost-yu-v-andropova-v-apparate-tsk-kpss-vneshnepoliticheskie-aspekty-1957-1967-gg.pdf\n",
      "http://usinsk.online/news/23170/https://www.bnkomi.ru/data/news/56255/\n",
      "http://www.nytimes.com/2015/12/20/arts/music/kurt-masur-new-york-philharmonic-conductor-dies\n",
      "PS3\n",
      "IP)\n",
      "PS3\n",
      "II)\n",
      "F4F\n",
      "II)\n",
      "03:12:00\n",
      "03:12:00\n",
      "CS258\n",
      "II)\n",
      "(PS)\n",
      "http://www.imemo.ru/files/File/ru/dis/2016_001_Rudenkova_DIS\n",
      "-6361/201014277\n",
      "PS4\n",
      "(II\n",
      "(CH\n",
      "https://strategy2050.kz/ru/\n",
      "http://news.mit.edu/2014/robert-alberty-professor-emeritus-of-chemistry-and-former-dean-of-science-dies-at-92\n",
      "http://www.the-village.ru/village/weekend/weekend/223195-terminal\n",
      "(II\n",
      "(II)\n",
      "1,981,913\n",
      "HB8\n",
      "0140-6736(11)61097-0\n",
      "1tvrus.com\n",
      "SP2\n",
      "http://www.susu.ru/ru/dissertation/d-21229813/sosnovskih-elena-\n",
      "(II)\n",
      "1078b\n",
      "2016-BLG\n",
      "IB)\n",
      "(HN)\n",
      "http://www.sevmb.com/recomend/sevast/p_1_at639_id990/\n",
      "F9F\n",
      "1973.austro-hungarian-army.co.ukHrvatska\n",
      "2017.ru_4g\n",
      "D. F. O.\n",
      "II)\n",
      "Region15.ru\n",
      "PS2\n",
      "(II)\n",
      "(II)\n",
      "http://www.billboard.com/artist/6584550/skylar-stecker/chartSkylar\n",
      "PI3\n",
      "(CO)\n",
      "244GL\n",
      "(SS\n",
      "http://www.hotnewhiphop.com/carlos-santana-approves-of-dj-khaled-rihanna-and-bryson-tillers-wild-thoughts-news.34054.html\n",
      "SP2\n",
      "II)\n",
      "II)\n",
      "II)\n",
      "(PS2\n",
      "http://data.bnf.fr/ark:/12148/cb11908983\n",
      "1474-919X.1893\n",
      "PS2\n",
      "water-rf.ru\n",
      "II)\n",
      "2013-09-24.mdy.2017\n",
      "(1989)47\n",
      "(2001)2\n",
      "(2002)4\n",
      "nmhh.hu/dokumentum/158984/2009_filmbemutatok_osszes\n",
      "II)\n",
      "C6F\n",
      "http://asianwiki.com/Kaige_Chenhttp://www.nndb.com/lists/503/000063314/http://www.britannica.com/EBchecked/topic/109145/Chen-Kaigehttp://www.nytimes.com/1991/01/27/movies/film-back-to-china-laden-with-new-ideas.htmlKJ\n",
      "ec.europa.eu/trade/policy/countries-and-regions/countries/georgia/http://ec.europa.eu/trade/policy/countries-and-regions/countries/moldova/http://ec.europa.eu/trade/policy/countries-and-regions/countries/ukraine/EU-Ukraine\n",
      "(H1N1\n",
      "(H1N1\n",
      "http://www.carlustblog.com/2013/10/citroen-ds.htmlCitroen\n",
      "prototypeshttp://www.landcrab.net/mainframes/main_pinafarina1800.htmOportunidades\n",
      "(H1N1\n",
      "http://web.archive.org/web/20080208074706/http://www.rollingstone.com/news/coverstory/500songs/page/5\n",
      "(II\n",
      "(II\n",
      "(II)\n",
      "II)\n",
      "23-10.24\n",
      "II)\n",
      "4,800,000\n",
      "http://newlit.ru/~glavatskiy/\n",
      "H5N1\n",
      "(II\n",
      "PI3\n",
      "ufa1.ru\n",
      "Poteaux-Carres.com\n",
      "II)\n",
      "CO)\n",
      "W. H. C.\n",
      "(SS\n",
      "(ON)\n",
      "(ON)\n",
      "(ON)\n",
      "0,000958%\n",
      "Aviation-Safety.netUstica\n",
      "(PS2\n",
      "(II\n",
      "II)\n",
      "archive-ru.com\n",
      "(II\n",
      "H1N1\n",
      "1:55.4\n",
      "72,6%\n",
      "http://www.nj.com/essex/index.ssf/2014/01/hold_hold_hold_amiri_baraka_former_nj_poet_laureate_and_prolific_author_dead_at_79\n",
      "D. M. H.\n",
      "http://www.topos.ru/article/literaturnaya-kritika/sovetnik-po-kultureHat\n",
      "http://www.bf.pstu.ru/files/region_sovr_mir\n",
      "http://dx.doi.org/10.7554/eLife.05098Dan\n",
      "http://1pnz.ru/city_online/proishestviya/news/fabrika_poterryannyh_konechnostey_chto_tvoritsya_na_nevskom_konditere_v_mokshane/\n",
      "H2S\n",
      "F.N. L.\n",
      "128/128 секунд\n",
      "I2P\n",
      "1,096,509\n",
      "(IP\n",
      "http://www.crunchyroll.com/anime-news/2015/12/27/video-the-ancient-magus-bride-drama-cd-previewedDoi\n",
      "W. E. P.\n",
      "II)\n",
      "PS3\n",
      "SS2\n",
      "345%\n",
      "HS20\n",
      "(HCN)\n",
      "(CO)\n",
      "(SS\n",
      "(SS\n",
      "http://kommersant.ru/doc/3175314omelchenko\n",
      "kunstkamera.ru/files/lib/978-5-88431-239-5/978-5-88431-239-5_36.pdfhttp://nnao.ru/wp-content/uploads/2012/02/2009-17152-3\n",
      "SH2\n",
      "HP18\n",
      "PS4\n",
      "PS3\n",
      "http://data.bnf.fr/ark:/12148/cb119176232\n",
      "PS4\n",
      "http://dx.doi.org/10.2305/IUCN.UK.2014-1.RLTS.T165487A19156026.en\n",
      "HF2000\n",
      "HF3000\n",
      "II1988\n",
      "rp-online.de\n",
      "CS1\n",
      "2013.Evo2k.com\n",
      "(SP\n",
      "(FI)\n",
      "0168-9002(88)90170-2\n",
      "www.number-10.gov.uk\n",
      "(II\n",
      "http://www.globalsecurity.org/military/world/russia/av-main.htm\n",
      "(II\n",
      "(PS2\n",
      "www.tv-rb.ru\n",
      "http://www.oldglory.co.uk/archive/12may04/ft3.htm]of\n",
      "II)\n",
      "(II)\n",
      "http://classic-web.archive.org/web/20080623205822/www.trinary.cc/Tutorial/Algebra/Binary.htm]\n",
      "(IP\n",
      "SN9\n",
      "II2010\n",
      "http://www.partner-inform.de/blogs/detail/17/3572/besedy-s-abramom-hasinym-turniry-v-kislovodske#deteilshttp://www.partner-inform.de/blogs/detail/17/3575/besedy-s-abramom-hasinym-neobyknovennoe-\n",
      "(II)\n",
      "http://www.inslav.ru/resursy/elektronnaya-biblioteka/2370-2012-polsha-v-xx-\n",
      "www.inform.kz/ru/aeroporty-aktobe-atyrau-i-pavlodar-pereshli-pod-upravlenie-airport-management-group_a2882101\n",
      "(II)\n",
      "SH2\n",
      "PS3\n",
      "PS2\n",
      "(PS2\n",
      "IF)\n",
      "(II\n",
      "http://www.smotr.ru/2003/2003_tab_i.htm\n",
      "F6F\n",
      "(II\n",
      "(1990)60\n",
      "23:34:56\n",
      "lifehttps://www.championat\n",
      "comhttps://vk.com/kaisaleenahttp://\n",
      "(II\n",
      "(SS)\n",
      "II)\n",
      "SS501\n",
      "http://www.ng.ru/lit/2006-03-16/4_piroskaf\n",
      "mitropolia.kz/ru/info/hr/hraminfo/otegen/1378-kapchagay\n",
      "II)\n",
      "II)\n",
      "(II)\n",
      "ru.climate-data.org/location/282287/\n",
      "0022-0000(78)90014-4\n",
      "SnO2\n",
      "SP1900\n",
      "(ICN)\n",
      "FI)\n",
      "J.R.R. R. R.\n",
      "M.J.S. J. S.\n",
      "SH8\n",
      "(CdS)\n",
      "http://www.metalinjection.net/its-just-business/record-sales/ouch-suicide-silences-experimental-new-album-sells-70-less-than-previous-releaseARIA\n",
      "O(N)\n",
      "0167-6377(88)90035-1\n",
      "PH5\n",
      "(1982)109\n",
      "K2P)\n",
      "(SF6\n",
      "двадцать один p.c.\n",
      "(II)\n",
      "KB151717\n",
      "http://www.mo.gov.si/fileadmin/mo.gov.si/pageuploads/pdf/javne_objave/2015/orozje_2015/Sklopi1_8_za_objavo.pdfMarchington\n",
      "(PS3\n",
      "ru.convdocs.org/docs/index-107101\n",
      "http://www.ska.ru/)\n",
      "2015.alt-J\n",
      "(F22B)\n",
      "(PS4\n",
      "YK-news.kz\n",
      "II)\n",
      "https://www.iana.org/assignments/media-types/application/javascriptDr\n",
      "0.5a1.dev\n",
      "M. E. S.\n",
      "II)\n",
      "FI)\n",
      "SF360\n",
      "II)\n",
      "(1995)01\n",
      "PS3\n",
      "PS2\n",
      "PS3\n",
      "II)\n",
      "51,64%\n",
      "Vesti-ukr.com\n",
      "SN7\n",
      "00:04:05\n",
      "SN9\n",
      "(NH\n"
     ]
    },
    {
     "data": {
      "text/plain": [
       "281"
      ]
     },
     "execution_count": 271,
     "metadata": {},
     "output_type": "execute_result"
    }
   ],
   "source": [
    "num = {\"0\",\"1\",\"2\",\"3\",\"4\",\"5\",\"6\",\"7\",\"8\",\"9\"}\n",
    "alp = {\"q\",\"w\",\"e\",\"r\",\"t\",\"y\",\"u\",\"i\",\"o\",\"p\",\n",
    "       \"a\",\"s\",\"d\",\"f\",\"g\",\"h\",\"j\",\"k\",\"l\",\n",
    "       \"z\",\"x\",\"c\",\"v\",\"b\",\"n\",\"m\"}\n",
    "\n",
    "def sepup(x):\n",
    "    return \" \".join([c.lower() for c in x.replace(\".\",\"\").replace(\" \",\"\")])\n",
    "\n",
    "k = -5\n",
    "a = 0\n",
    "z = set()\n",
    "print(len(dr[dr.type==k]))\n",
    "dr[dr.type==k]\n",
    "for x in dr[dr.type==k][\"after\"]:\n",
    "#for x in df[dr.type==k][\"before\"]:\n",
    "    #if x.endswith(\" г.\") or x.endswith(\" года\"):\n",
    "    #if (len(set(x.lower())&alp)==0 and len(set(x.lower())&num)!=0):\n",
    "    #if \"/\" in x:\n",
    "    #if x[:2] == \"20\":\n",
    "    #if \"a\" in x and \"а\" in x:\n",
    "    print(x)\n",
    "    a+=1\n",
    "    #break\n",
    "a\n"
   ]
  },
  {
   "cell_type": "code",
   "execution_count": 288,
   "metadata": {
    "collapsed": false
   },
   "outputs": [
    {
     "name": "stdout",
     "output_type": "stream",
     "text": [
      "a a_latin\n",
      "a a_latin\n",
      "a a_latin\n",
      "a a_latin\n",
      "a a_latin\n",
      "a a_latin\n",
      "a a_latin\n",
      "a a_latin\n",
      "a a_latin\n",
      "a a_latin\n",
      "a a_latin\n",
      "a a_latin\n",
      "a a_latin\n",
      "a a_latin\n",
      "a a_latin\n",
      "a a_latin\n",
      "a a_latin\n",
      "a a_latin\n",
      "a a_latin\n",
      "a a_latin\n",
      "a a_latin\n",
      "a a_latin\n",
      "a a_latin\n",
      "a a_latin\n"
     ]
    },
    {
     "ename": "KeyboardInterrupt",
     "evalue": "",
     "output_type": "error",
     "traceback": [
      "\u001b[0;31m---------------------------------------------------------------------------\u001b[0m",
      "\u001b[0;31mKeyboardInterrupt\u001b[0m                         Traceback (most recent call last)",
      "\u001b[0;32m<ipython-input-288-cbc036913a0c>\u001b[0m in \u001b[0;36m<module>\u001b[0;34m()\u001b[0m\n\u001b[1;32m      4\u001b[0m \u001b[0mb\u001b[0m \u001b[0;34m=\u001b[0m \u001b[0;36m0\u001b[0m\u001b[0;34m\u001b[0m\u001b[0m\n\u001b[1;32m      5\u001b[0m \u001b[0;32mfor\u001b[0m \u001b[0mi\u001b[0m \u001b[0;32min\u001b[0m \u001b[0mrange\u001b[0m\u001b[0;34m(\u001b[0m\u001b[0;36m500000\u001b[0m\u001b[0;34m)\u001b[0m\u001b[0;34m:\u001b[0m\u001b[0;34m\u001b[0m\u001b[0m\n\u001b[0;32m----> 6\u001b[0;31m     \u001b[0mword\u001b[0m \u001b[0;34m=\u001b[0m \u001b[0mdq\u001b[0m\u001b[0;34m.\u001b[0m\u001b[0mbefore\u001b[0m\u001b[0;34m[\u001b[0m\u001b[0mi\u001b[0m\u001b[0;34m]\u001b[0m\u001b[0;34m\u001b[0m\u001b[0m\n\u001b[0m\u001b[1;32m      7\u001b[0m     \u001b[0;32mif\u001b[0m \u001b[0mstr\u001b[0m\u001b[0;34m(\u001b[0m\u001b[0mword\u001b[0m\u001b[0;34m)\u001b[0m \u001b[0;34m==\u001b[0m \u001b[0;34m\"nan\"\u001b[0m\u001b[0;34m:\u001b[0m\u001b[0;34m\u001b[0m\u001b[0m\n\u001b[1;32m      8\u001b[0m         \u001b[0;32mcontinue\u001b[0m\u001b[0;34m\u001b[0m\u001b[0m\n",
      "\u001b[0;32m/home/pavel/anaconda3/lib/python3.5/site-packages/pandas/core/generic.py\u001b[0m in \u001b[0;36m__getattr__\u001b[0;34m(self, name)\u001b[0m\n\u001b[1;32m   2728\u001b[0m         \u001b[0;32mreturn\u001b[0m \u001b[0mself\u001b[0m\u001b[0;34m\u001b[0m\u001b[0m\n\u001b[1;32m   2729\u001b[0m \u001b[0;34m\u001b[0m\u001b[0m\n\u001b[0;32m-> 2730\u001b[0;31m     \u001b[0;32mdef\u001b[0m \u001b[0m__getattr__\u001b[0m\u001b[0;34m(\u001b[0m\u001b[0mself\u001b[0m\u001b[0;34m,\u001b[0m \u001b[0mname\u001b[0m\u001b[0;34m)\u001b[0m\u001b[0;34m:\u001b[0m\u001b[0;34m\u001b[0m\u001b[0m\n\u001b[0m\u001b[1;32m   2731\u001b[0m         \"\"\"After regular attribute access, try looking up the name\n\u001b[1;32m   2732\u001b[0m         \u001b[0mThis\u001b[0m \u001b[0mallows\u001b[0m \u001b[0msimpler\u001b[0m \u001b[0maccess\u001b[0m \u001b[0mto\u001b[0m \u001b[0mcolumns\u001b[0m \u001b[0;32mfor\u001b[0m \u001b[0minteractive\u001b[0m \u001b[0muse\u001b[0m\u001b[0;34m.\u001b[0m\u001b[0;34m\u001b[0m\u001b[0m\n",
      "\u001b[0;31mKeyboardInterrupt\u001b[0m: "
     ]
    }
   ],
   "source": [
    "#dq = pd.read_csv(\"input/ru_train.csv\")\n",
    "\n",
    "a = 0\n",
    "b = 0\n",
    "for i in range(500000):\n",
    "    word = dq.before[i]\n",
    "    if str(word) == \"nan\":\n",
    "        continue\n",
    "#     if (len(set(word.lower())&alp)==0 and len(set(word.lower())&num)==0\n",
    "#         and dq.before[i]!=dq.after[i]\n",
    "#         and word.lower()!=word \n",
    "#         and word.upper()!=word\n",
    "#        ):\n",
    "    if word == \"a\":\n",
    "    #if \"долл.\" in word:\n",
    "        #if sepup(dq.before[i]) != dq.after[i]: \n",
    "        print(dq.before[i], dq.after[i])\n",
    "        #break\n",
    "        \n",
    "#a,b,b/a \n",
    "    "
   ]
  },
  {
   "cell_type": "code",
   "execution_count": null,
   "metadata": {
    "collapsed": false
   },
   "outputs": [],
   "source": [
    "a = 0\n",
    "b = 0\n",
    "for i in range(800000):\n",
    "    word = dq.before[i]\n",
    "    if str(word)==\"nan\":\n",
    "        continue\n",
    "    if dot_date(word)!=\"\":\n",
    "        continue\n",
    "    sword = word.split(\"-\")\n",
    "    if (word.count(\"-\")>0 and word.count(\".\")==0 and word != \"-\" and sword[1].isnumeric() and sword[0].isnumeric()\n",
    "        and word.count(\"/\")==0 and word.count(\"(\")==0\n",
    "        and word.count(\"B\")==0):\n",
    "        z = dash_num(word.replace(\" \",\"-\")).replace(\"одна \",\"\")\n",
    "        a+=1\n",
    "        if z!=dq.after[i]:\n",
    "            print(dq.before[i])\n",
    "            print(dq.after[i])\n",
    "            print(z,'\\n')\n",
    "            b+=1\n",
    "a,b,b/a  \n",
    "    \n",
    "            \n",
    "        "
   ]
  },
  {
   "cell_type": "code",
   "execution_count": 5,
   "metadata": {
    "collapsed": false
   },
   "outputs": [
    {
     "data": {
      "text/plain": [
       "'девятьсот семьдесят восемь sil пять sil сто четыре девятьсот тридцать пять sil двадцать пять sil два'"
      ]
     },
     "execution_count": 5,
     "metadata": {},
     "output_type": "execute_result"
    }
   ],
   "source": [
    "def name_num(t):\n",
    "    if len(t) == 0:\n",
    "        return \"\"\n",
    "    while t[0]==\"0\":\n",
    "        return \"ноль \" + name_num(t[1:])\n",
    "        \n",
    "    if len(t) == 4:\n",
    "        if t[:2] == \"20\" and t[2]!=\"0\":\n",
    "            return \"двадцать \" + num2words(t[2:], lang='ru') + \" \"\n",
    "        if t[1]==\"0\" or t[2]==\"0\":\n",
    "            return num2words(t, lang='ru') + \" \"\n",
    "        return num2words(t[:2], lang='ru') + \" \" + num2words(t[2:], lang='ru') + \" \"\n",
    "    if len(t) <= 3:\n",
    "        num2words(t, lang='ru')\n",
    "    return num2words(t[:3], lang='ru') + \" \" + name_num(t[3:])\n",
    "\n",
    "def dash_num(t):\n",
    "    res = \"\"\n",
    "    s = t.split(\"-\")\n",
    "    for x in s:\n",
    "        res += name_num(x) + \"sil \"\n",
    "    return res[:-5]\n",
    "\n",
    "dash_num(\"978-5-104935-25-2\")\n",
    "#name_num(\"12\")\n"
   ]
  },
  {
   "cell_type": "code",
   "execution_count": 14,
   "metadata": {
    "collapsed": false
   },
   "outputs": [
    {
     "data": {
      "text/plain": [
       "'девятнадцатого мая две тысячи шестнадцатого года'"
      ]
     },
     "execution_count": 14,
     "metadata": {},
     "output_type": "execute_result"
    }
   ],
   "source": [
    "mm = {\"1\":\"января\",\n",
    "      \"2\":\"февраля\",\n",
    "      \"3\":\"марта\",\n",
    "      \"4\":\"апреля\",\n",
    "      \"5\":\"мая\",\n",
    "      \"6\":\"июня\",\n",
    "      \"7\":\"июля\",\n",
    "      \"8\":\"августа\",\n",
    "      \"9\":\"сентября\",\n",
    "      \"10\":\"октября\",\n",
    "      \"11\":\"ноября\",\n",
    "      \"12\":\"декабря\",\n",
    "      \"01\":\"января\",\n",
    "      \"02\":\"февраля\",\n",
    "      \"03\":\"марта\",\n",
    "      \"04\":\"апреля\",\n",
    "      \"05\":\"мая\",\n",
    "      \"06\":\"июня\",\n",
    "      \"07\":\"июля\",\n",
    "      \"08\":\"августа\",\n",
    "      \"09\":\"сентября\"      \n",
    "     }\n",
    "\n",
    "d = {\"0\":\"\",\n",
    "     \"1\":\"первого\",\n",
    "     \"2\":\"второго\",\n",
    "     \"3\":\"третьего\",\n",
    "     \"4\":\"четвертого\",\n",
    "     \"5\":\"пятого\",\n",
    "     \"6\":\"шестого\",\n",
    "     \"7\":\"седьмого\",\n",
    "     \"8\":\"восьмого\",\n",
    "     \"9\":\"девятого\",\n",
    "     \"01\":\"первого\",\n",
    "     \"02\":\"второго\",\n",
    "     \"03\":\"третьего\",\n",
    "     \"04\":\"четвертого\",\n",
    "     \"05\":\"пятого\",\n",
    "     \"06\":\"шестого\",\n",
    "     \"07\":\"седьмого\",\n",
    "     \"08\":\"восьмого\",\n",
    "     \"09\":\"девятого\",\n",
    "     \"10\":\"десятого\",\n",
    "     \"11\":\"одиннадцатого\",\n",
    "     \"12\":\"двенадцатого\",\n",
    "     \"13\":\"тринадцатого\",\n",
    "     \"14\":\"четырнадцатого\",\n",
    "     \"15\":\"пятнадцатого\",\n",
    "     \"16\":\"шестнадцатого\",\n",
    "     \"17\":\"семнадцатого\",\n",
    "     \"18\":\"восемнадцатого\",\n",
    "     \"19\":\"девятнадцатого\",\n",
    "     \"20\":\"двадцатого\",\n",
    "     \"21\":\"двадцать первого\",\n",
    "     \"22\":\"двадцать второго\",\n",
    "     \"23\":\"двадцать третьего\",\n",
    "     \"24\":\"двадцать четвертого\",\n",
    "     \"25\":\"двадцать пятого\",\n",
    "     \"26\":\"двадцать шестого\",\n",
    "     \"27\":\"двадцать седьмого\",\n",
    "     \"28\":\"двадцать восьмого\",\n",
    "     \"29\":\"двадцать девятого\",\n",
    "     \"30\":\"тридцатого\",\n",
    "     \"31\":\"тридцать первого\",\n",
    "    }\n",
    "\n",
    "dd = {\"2\":\"двадцать\",\n",
    "      \"3\":\"тридцать\",\n",
    "      \"4\":\"сорок\",\n",
    "      \"5\":\"пятьдесят\",\n",
    "      \"6\":\"шестьдесят\",\n",
    "      \"7\":\"семьдесят\",\n",
    "      \"8\":\"восемьдесят\",\n",
    "      \"9\":\"девяносто\"\n",
    "     }\n",
    "\n",
    "dd0 = {\"1\":\"десятого\",\n",
    "       \"2\":\"двадцатого\",\n",
    "       \"3\":\"тридцатого\",\n",
    "       \"4\":\"сорокового\",\n",
    "       \"5\":\"пятидесятого\",\n",
    "       \"6\":\"шестидесятого\",\n",
    "       \"7\":\"семидесятого\",\n",
    "       \"8\":\"восьмидесятого\",\n",
    "       \"9\":\"девяностого\"\n",
    "     }\n",
    "\n",
    "ddd = {\"1\":\"сто\",\n",
    "       \"2\":\"двести\",\n",
    "       \"3\":\"триста\",\n",
    "       \"4\":\"четыреста\",\n",
    "       \"5\":\"пятьсот\",\n",
    "       \"6\":\"шестьсот\",\n",
    "       \"7\":\"семьсот\",\n",
    "       \"8\":\"восемьсот\",\n",
    "       \"9\":\"девятьсот\"\n",
    "     }\n",
    "\n",
    "gl = [\"a\",\"e\",\"u\",\"i\",\"o\",\"y\"]\n",
    "zv = [ \"b\" , \"v\" , \"g\" , \"d\" , \"z\" , \"l\" , \"m\" , \"n\" , \"r\" ]\n",
    "\n",
    "def thous(x):\n",
    "    if x[0]==\"1\":\n",
    "        res = \"тысяча \"\n",
    "    if x[0]==\"2\":\n",
    "        res = \"две тысячи \"\n",
    "    \n",
    "    if int(x[1])!=0:\n",
    "        res += ddd[x[1]]+\" \"\n",
    "    if int(x[2])>1:\n",
    "        if x[3]==\"0\":\n",
    "            res += dd0[x[2]] \n",
    "        else:\n",
    "            res += dd[x[2]]+\" \"+d[x[3]]\n",
    "    else:\n",
    "        if x[2]==\"0\":\n",
    "            res += d[x[3]]\n",
    "        else:\n",
    "            if x[3]==\"0\":\n",
    "                res += dd0[x[2]]\n",
    "            else:\n",
    "                res += d[x[2]+x[3]]\n",
    "        \n",
    "    return res + \" года\"\n",
    "\n",
    "#print(thous(\"2007\"))\n",
    "\n",
    "def year(q):\n",
    "    res = \"\"\n",
    "    \n",
    "    for x in res_upd:\n",
    "        if x[2].endswith(q):\n",
    "            try:\n",
    "                y = x[2].split()[-3]\n",
    "                z = list(res_upd[x])[0]\n",
    "                res = z.split(y)[-1]\n",
    "                break\n",
    "            except:\n",
    "                pass\n",
    "        if q == x[2]:\n",
    "            try:\n",
    "                res = \" \"+list(res_upd[x])[0]\n",
    "                break\n",
    "            except:\n",
    "                pass\n",
    "    if res == \"\" and int(q[0])<3 and q[3]!=\"\":\n",
    "        try:\n",
    "            res = thous(q[:4])\n",
    "        except:\n",
    "            pass\n",
    "    return res\n",
    "\n",
    "def full_date(t):\n",
    "    a = {'г','г.','гг.'}\n",
    "    b = {'год','года','году'}\n",
    "    ans = \"\"\n",
    "    s = t.split()\n",
    "    if len(s) == 3 and len(s[-1])==4 and s[-1].isnumeric():\n",
    "        if s[0] in d:\n",
    "            res = year(s[2] + \" года\")\n",
    "            tmp = d[s[0]]+ \" \" + s[1] + res\n",
    "            if res != \"\":\n",
    "                ans = tmp\n",
    "            else:\n",
    "                print(s[2])\n",
    "    if len(s) == 4 and s[-1] in a|b:\n",
    "        if s[0] in d:\n",
    "            res = year(s[2] + \" \" + s[-1])\n",
    "            tmp = d[s[0]]+ \" \" + s[1] + res\n",
    "            if res != \"\":\n",
    "                ans = tmp\n",
    "            else:\n",
    "                print(s[2])\n",
    "    return ans\n",
    "\n",
    "def space_date(t):\n",
    "    t = t.replace(\" года\",'')\n",
    "    ans = \"\"\n",
    "    s = t.split()\n",
    "    if len(s) == 3 and len(s[-1])==4 and s[2].isnumeric() and s[0].isnumeric() and not s[1].isnumeric():\n",
    "        try:\n",
    "            ans = (d[s[0]][:-2]+\"е \").replace(\"ее\",'е') +  s[1] + \" \" + thous(s[2])\n",
    "        except:\n",
    "            pass\n",
    "    return ans\n",
    "\n",
    "def dot_date(t):\n",
    "    res = \"\"\n",
    "    s = t.split(\".\")\n",
    "    if len(s)!=3:\n",
    "        s = t.split(\"-\")\n",
    "        if len(s)!=3:\n",
    "            s = t.split(\"/\")\n",
    "            if len(s)!=3:\n",
    "                return \"\"\n",
    "    \n",
    "    if len(s[2]) == 2:\n",
    "        s[2] = \"19\"+s[2]\n",
    "    if len(s[2])!=4:\n",
    "        return \"\"\n",
    "        \n",
    "    if  len(s)==3 and s[0].isnumeric() and s[1].isnumeric() and s[2].isnumeric():\n",
    "        try:\n",
    "            res = (d[s[0]][:-2]+\"е \").replace(\"ее\",'е') +  mm[s[1]] + \" \" + thous(s[2])\n",
    "        except:\n",
    "            pass\n",
    "        \n",
    "    return res\n",
    "\n",
    "#print(dot_date(\"02/10/15 г.\".replace(\" г.\",'')))\n",
    "#space_date(\"11 января 2017 года\")\n",
    "full_date(\"19 мая 2016 г.\")"
   ]
  },
  {
   "cell_type": "code",
   "execution_count": null,
   "metadata": {
    "collapsed": false
   },
   "outputs": [],
   "source": []
  },
  {
   "cell_type": "code",
   "execution_count": null,
   "metadata": {
    "collapsed": false
   },
   "outputs": [],
   "source": [
    "t = \"1774\"\n",
    "for x in res_upd:\n",
    "    if x[2].endswith(t):\n",
    "        try:\n",
    "            y = x[2].split()[-3]\n",
    "            z = list(res_upd[x])[0]\n",
    "            print(x, y, z.split(y)[-1])\n",
    "            break\n",
    "        except:\n",
    "            pass\n",
    "    if t == x[2]:\n",
    "        try:\n",
    "            z = list(res_upd[x])[0]\n",
    "            print(x, z)\n",
    "            break\n",
    "        except:\n",
    "            pass\n",
    "    if t in x[2]:\n",
    "        try:\n",
    "            print(x, res_upd[x])\n",
    "            break\n",
    "        except:\n",
    "            pass\n",
    "    "
   ]
  },
  {
   "cell_type": "code",
   "execution_count": null,
   "metadata": {
    "collapsed": false
   },
   "outputs": [],
   "source": []
  },
  {
   "cell_type": "code",
   "execution_count": null,
   "metadata": {
    "collapsed": false
   },
   "outputs": [],
   "source": []
  },
  {
   "cell_type": "code",
   "execution_count": null,
   "metadata": {
    "collapsed": false
   },
   "outputs": [],
   "source": [
    "cheat = set()\n",
    "for i in tqdm(range(70000)):\n",
    "    ans = \" \".join([str(x) for x in list(df[df.sentence_id == i].before)])\n",
    "    cheat.add(ans)\n",
    "len(cheat)"
   ]
  },
  {
   "cell_type": "code",
   "execution_count": null,
   "metadata": {
    "collapsed": false
   },
   "outputs": [],
   "source": [
    "check = set()\n",
    "k = 0\n",
    "files = os.listdir(DATA_INPUT_PATH)\n",
    "for file in tqdm(files):\n",
    "    train = open(os.path.join(DATA_INPUT_PATH, file), encoding='UTF8')\n",
    "    ans = \"\"\n",
    "    while 1:\n",
    "        line = train.readline().strip()\n",
    "        if line == '':\n",
    "            break\n",
    "        \n",
    "        pos = line.find('\\t')\n",
    "        text = line[pos + 1:]\n",
    "        if text[:3] == '':\n",
    "            continue\n",
    "        arr = text.split('\\t')\n",
    "        if arr[0] == '<eos>':\n",
    "            ans = ans[1:]\n",
    "            if ans in cheat:\n",
    "                #print(ans)\n",
    "                k+=1\n",
    "                check.add(ans)\n",
    "            ans=\"\"\n",
    "            continue\n",
    "        \n",
    "        ans+= \" \" + arr[0]\n",
    "    print(k)\n",
    "    train.close()\n",
    "    gc.collect()"
   ]
  },
  {
   "cell_type": "code",
   "execution_count": null,
   "metadata": {
    "collapsed": false
   },
   "outputs": [],
   "source": [
    "{'13 i 29 Schneider — Kampania Wrzesniowa 1939.pl105 MM ARMATA DALEKONO Ś nan WZ . 13 / WZ . 29105 mm wz .',\n",
    " 'Am Fam Physician 11 ( 6 ) : 80 ( 9 ) : 1011-1013 . Riviello RJ , Brown nan .',\n",
    " 'Group nan - nan & RAY CHARLES .',\n",
    " 'Rasna — самоназвание этрусков ) A - RI - SI - TO - NO - SE A - RA - TO - WA - nan - KA - SO - KO - O - SE KE - RA KE - RE - TU - LO - SEAriston - ose Artowanaksoko - ose , kera keretul - ose .'}"
   ]
  },
  {
   "cell_type": "code",
   "execution_count": null,
   "metadata": {
    "collapsed": false
   },
   "outputs": [],
   "source": [
    "ss = set()\n",
    "for x in multi_new:\n",
    "    ss.add(x[0][2])\n",
    "    \n",
    "for x in multi_upd:\n",
    "    ss.add(x[0][2])\n",
    "    \n",
    "len(ss)"
   ]
  },
  {
   "cell_type": "code",
   "execution_count": null,
   "metadata": {
    "collapsed": false
   },
   "outputs": [],
   "source": [
    "dq = pd.read_csv(\"input/ru_train.csv\")\n",
    "dq.head(10)"
   ]
  },
  {
   "cell_type": "code",
   "execution_count": null,
   "metadata": {
    "collapsed": false
   },
   "outputs": [],
   "source": [
    "wordbreak2(\"Pollienus\")[0]"
   ]
  },
  {
   "cell_type": "code",
   "execution_count": null,
   "metadata": {
    "collapsed": false
   },
   "outputs": [],
   "source": [
    "\n",
    "# 0.4691895512391159\n",
    "# 0.494962486602358"
   ]
  },
  {
   "cell_type": "code",
   "execution_count": null,
   "metadata": {
    "collapsed": false
   },
   "outputs": [],
   "source": [
    "rupabet = {\n",
    "     'AA0':\"а\",\n",
    "     'AA1':\"а\",\n",
    "     'AA2':\"а\",\n",
    "     'AE0':\"а\",\n",
    "     'AE1':\"а\",\n",
    "     'AE2':\"а\",\n",
    "     'AH0':\"э\",\n",
    "     'AH1':\"а\",\n",
    "     'AH2':\"а\",\n",
    "     'AO0':\"о\",\n",
    "     'AO1':\"о\",\n",
    "     'AO2':\"о\",\n",
    "     'AW0':\"а_trans у\",\n",
    "     'AW1':\"а_trans у\",\n",
    "     'AW2':\"а_trans у\",\n",
    "     'AY0':\"а_trans й\",\n",
    "     'AY1':\"а_trans й\",\n",
    "     'AY2':\"а_trans й\",\n",
    "     'B':\"б\",\n",
    "     'CH':\"ч\",\n",
    "     'D':\"д\",\n",
    "     'DH':\"з\",\n",
    "     'EH0':\"е\",\n",
    "     'EH1':\"е\",\n",
    "     'EH2':\"е\",\n",
    "     'ER0':\"е_trans р\",\n",
    "     'ER1':\"е_trans р\",\n",
    "     'ER2':\"е_trans р\",\n",
    "     'EY0':\"е_trans й\",\n",
    "     'EY1':\"е_trans й\",\n",
    "     'EY2':\"е_trans й\",\n",
    "     'F':\"ф\",\n",
    "     'G':\"г\",\n",
    "     'HH':\"х\",\n",
    "     'IH0':\"и\",\n",
    "     'IH1':\"и\",\n",
    "     'IH2':\"и\",\n",
    "     'IY0':\"и\",\n",
    "     'IY1':\"и\",\n",
    "     'IY2':\"и\",\n",
    "     'JH':\"д_trans ж\",\n",
    "     'K':\"к\",\n",
    "     'L':\"л\",\n",
    "     'M':\"м\",\n",
    "     'N':\"н\",\n",
    "     'NG':\"н_trans г\",\n",
    "     'OW0':\"о\",\n",
    "     'OW1':\"о\",\n",
    "     'OW2':\"о\",\n",
    "     'OY0':\"о_trans й\",\n",
    "     'OY1':\"о_trans й\",\n",
    "     'OY2':\"о_trans й\",\n",
    "     'P':\"п\",\n",
    "     'R':\"р\",\n",
    "     'S':\"с\",\n",
    "     'SH':\"ш\",\n",
    "     'T':\"т\",\n",
    "     'TH':\"з\",\n",
    "     'UH0':\"у\",\n",
    "     'UH1':\"у\",\n",
    "     'UH2':\"у\",\n",
    "     'UW0':\"у\",\n",
    "     'UW1':\"у\",\n",
    "     'UW2':\"у\",\n",
    "     'V':\"в\", #ф\n",
    "     'W':\"у\",\n",
    "     'Y':\"у\", #ь\n",
    "     'Z':\"с\",\n",
    "     'ZH':\"ж\"}\n",
    "        "
   ]
  },
  {
   "cell_type": "code",
   "execution_count": null,
   "metadata": {
    "collapsed": false
   },
   "outputs": [],
   "source": [
    "a = 0\n",
    "b = 0\n",
    "x = dict()\n",
    "y = dict()\n",
    "z = dict()\n",
    "\n",
    "full = {\"проверено\",\"архивировано\", \"с\", \"от\", \"умер\", \"родился\", \"первоисточника\"}\n",
    "space = {\"на\",\"по\"}\n",
    "\n",
    "for i in range(2,300000):\n",
    "    if str(df.before[i])==\"nan\":\n",
    "        continue\n",
    "    s = df.before[i].split()\n",
    "    if (df.before[i-1].lower() in full and #(119, 1723)\n",
    "        df.before[i-1].lower() not in space and #space (23, 2)\n",
    "        df.before[i-1] != \".\" and #(53, 37) space\n",
    "        #df.before[i+1] == \",\" and #(32, 17)\n",
    "        df.before[i-1] != \",\" and #(7, 15) full\n",
    "        df.before[i-1] != \";\" and #(18, 18)\n",
    "        df.before[i-1] != \"—\" and #(28, 14) #space\n",
    "        df.before[i-1] != \"(\" and #(145, 153)\n",
    "        #df.before[i+2] != \".\" and #(128, 138)\n",
    "        len(s) == 3 and len(s[-1])==4 and s[2].isnumeric() and s[0].isnumeric() and not s[1].isnumeric()):\n",
    "        \n",
    "        #print(df.before[i-1], df.before[i+1])\n",
    "        #print(df.before[i], dr.after[i], i)\n",
    "        if space_date(df.before[i]) != dr.after[i]:\n",
    "            print(df.before[i-2], df.before[i+2])\n",
    "            print(df.before[i], dr.after[i], i)\n",
    "        if full_date(df.before[i]) == dr.after[i]:\n",
    "            b+=1\n",
    "        if df.before[i-2] in x:\n",
    "            x[df.before[i-2]]+=1\n",
    "        else:\n",
    "            x[df.before[i-2]] = 1\n",
    "        if df.before[i+1] in y:\n",
    "            y[df.before[i+1]]+=1\n",
    "        else:\n",
    "            y[df.before[i+1]] = 1\n",
    "        \n",
    "        #break\n",
    "a,b\n"
   ]
  },
  {
   "cell_type": "code",
   "execution_count": null,
   "metadata": {
    "collapsed": false
   },
   "outputs": [],
   "source": [
    "df[df[\"sentence_id\"] == df.iloc[19594].sentence_id]"
   ]
  },
  {
   "cell_type": "code",
   "execution_count": null,
   "metadata": {
    "collapsed": false
   },
   "outputs": [],
   "source": [
    "df.iloc[11937].sentence_id"
   ]
  },
  {
   "cell_type": "code",
   "execution_count": null,
   "metadata": {
    "collapsed": false
   },
   "outputs": [],
   "source": [
    "!translate en zh-TW <<< 'Hello World!'"
   ]
  },
  {
   "cell_type": "code",
   "execution_count": null,
   "metadata": {
    "collapsed": false
   },
   "outputs": [],
   "source": [
    "from transliterate import translit, get_available_language_codes\n",
    "print(\" \".join([x+str(\"_trans\") for x in translit(\"про\", 'ru')]))"
   ]
  },
  {
   "cell_type": "code",
   "execution_count": null,
   "metadata": {
    "collapsed": false
   },
   "outputs": [],
   "source": [
    "def is_ascii(s):\n",
    "    return all(ord(c) < 128 for c in s)\n",
    "\n",
    "for i in dr[df.sentence_id == 5981].index:\n",
    "    x = dr.iloc[i].after\n",
    "    if not is_ascii(x) or x in punct|{\"(\",\")\",\"/\",\":\"} or x in dash or \"_latin\" in x or \"_trans\" in x:\n",
    "        t = x\n",
    "    else:\n",
    "        t = \" \".join([y+str(\"_trans\") for y in translit(df.iloc[i].before.lower(), 'ru')])\n",
    "    print(i,t,x)\n",
    "    dr.set_value(i, \"after\", t)"
   ]
  },
  {
   "cell_type": "code",
   "execution_count": null,
   "metadata": {
    "collapsed": false
   },
   "outputs": [],
   "source": []
  }
 ],
 "metadata": {
  "anaconda-cloud": {},
  "kernelspec": {
   "display_name": "Python [default]",
   "language": "python",
   "name": "python3"
  },
  "language_info": {
   "codemirror_mode": {
    "name": "ipython",
    "version": 3
   },
   "file_extension": ".py",
   "mimetype": "text/x-python",
   "name": "python",
   "nbconvert_exporter": "python",
   "pygments_lexer": "ipython3",
   "version": "3.5.2"
  }
 },
 "nbformat": 4,
 "nbformat_minor": 2
}
